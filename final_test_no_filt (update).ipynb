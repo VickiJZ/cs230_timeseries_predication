{
 "cells": [
  {
   "cell_type": "code",
   "execution_count": 1,
   "metadata": {},
   "outputs": [
    {
     "name": "stderr",
     "output_type": "stream",
     "text": [
      "Using TensorFlow backend.\n"
     ]
    }
   ],
   "source": [
    "from __future__ import division\n",
    "\n",
    "import os\n",
    "import numpy as np\n",
    "import pandas as pd\n",
    "import ta\n",
    "import keras\n",
    "from keras.models import Sequential\n",
    "from keras.layers import LSTM, Dense\n",
    "from sklearn.metrics import mean_squared_error\n",
    "\n",
    "import tensorflow as tf\n",
    "\n",
    "%matplotlib inline\n",
    "import matplotlib.pyplot as plt"
   ]
  },
  {
   "cell_type": "code",
   "execution_count": 2,
   "metadata": {},
   "outputs": [],
   "source": [
    "df = pd.read_csv('DF_SPY.csv', parse_dates=['Date'], index_col=['Date'])"
   ]
  },
  {
   "cell_type": "code",
   "execution_count": null,
   "metadata": {},
   "outputs": [],
   "source": []
  },
  {
   "cell_type": "code",
   "execution_count": null,
   "metadata": {},
   "outputs": [],
   "source": []
  },
  {
   "cell_type": "code",
   "execution_count": null,
   "metadata": {},
   "outputs": [],
   "source": []
  },
  {
   "cell_type": "code",
   "execution_count": null,
   "metadata": {},
   "outputs": [],
   "source": []
  },
  {
   "cell_type": "code",
   "execution_count": 45,
   "metadata": {},
   "outputs": [],
   "source": [
    "seq = df['Return'].values\n",
    "seq = [np.array(seq[i * input_size: (i + 1) * input_size]) for i in range(len(seq) // input_size)]\n",
    "\n",
    "y = np.array([seq[i + num_steps] for i in range(len(seq) - num_steps)])\n",
    "y_train, y_test = y[:cutoff], y[cutoff:]"
   ]
  },
  {
   "cell_type": "code",
   "execution_count": 5,
   "metadata": {
    "scrolled": true
   },
   "outputs": [
    {
     "name": "stdout",
     "output_type": "stream",
     "text": [
      "Epoch 1/200\n",
      "870/870 [==============================] - 3s 3ms/step - loss: 2.3439e-04\n",
      "Epoch 2/200\n",
      "870/870 [==============================] - 2s 2ms/step - loss: 1.8207e-04\n",
      "Epoch 3/200\n",
      "870/870 [==============================] - 2s 2ms/step - loss: 1.7679e-04\n",
      "Epoch 4/200\n",
      "870/870 [==============================] - 2s 2ms/step - loss: 1.7420e-04\n",
      "Epoch 5/200\n",
      "870/870 [==============================] - 2s 2ms/step - loss: 1.7132e-04\n",
      "Epoch 6/200\n",
      "870/870 [==============================] - 2s 2ms/step - loss: 1.7108e-04\n",
      "Epoch 7/200\n",
      "870/870 [==============================] - 2s 2ms/step - loss: 1.7024e-04\n",
      "Epoch 8/200\n",
      "870/870 [==============================] - 2s 2ms/step - loss: 1.6891e-04\n",
      "Epoch 9/200\n",
      "870/870 [==============================] - 2s 2ms/step - loss: 1.6861e-04\n",
      "Epoch 10/200\n",
      "870/870 [==============================] - 2s 2ms/step - loss: 1.6900e-04\n",
      "Epoch 11/200\n",
      "870/870 [==============================] - 2s 2ms/step - loss: 1.6833e-04\n",
      "Epoch 12/200\n",
      "870/870 [==============================] - 2s 2ms/step - loss: 1.6835e-04\n",
      "Epoch 13/200\n",
      "870/870 [==============================] - 2s 2ms/step - loss: 1.6835e-04\n",
      "Epoch 14/200\n",
      "870/870 [==============================] - 2s 2ms/step - loss: 1.6572e-04\n",
      "Epoch 15/200\n",
      "870/870 [==============================] - 2s 2ms/step - loss: 1.6703e-04\n",
      "Epoch 16/200\n",
      "870/870 [==============================] - 2s 2ms/step - loss: 1.6781e-04\n",
      "Epoch 17/200\n",
      "870/870 [==============================] - 2s 2ms/step - loss: 1.6600e-04\n",
      "Epoch 18/200\n",
      "870/870 [==============================] - 2s 2ms/step - loss: 1.6668e-04\n",
      "Epoch 19/200\n",
      "870/870 [==============================] - 2s 2ms/step - loss: 1.6596e-04\n",
      "Epoch 20/200\n",
      "870/870 [==============================] - 2s 2ms/step - loss: 1.6525e-04\n",
      "Epoch 21/200\n",
      "870/870 [==============================] - 2s 2ms/step - loss: 1.6594e-04\n",
      "Epoch 22/200\n",
      "870/870 [==============================] - 2s 2ms/step - loss: 1.6543e-04\n",
      "Epoch 23/200\n",
      "870/870 [==============================] - 2s 2ms/step - loss: 1.6518e-04\n",
      "Epoch 24/200\n",
      "870/870 [==============================] - 2s 2ms/step - loss: 1.6473e-04\n",
      "Epoch 25/200\n",
      "870/870 [==============================] - 2s 2ms/step - loss: 1.6693e-04\n",
      "Epoch 26/200\n",
      "870/870 [==============================] - 2s 2ms/step - loss: 1.6508e-04\n",
      "Epoch 27/200\n",
      "870/870 [==============================] - 2s 2ms/step - loss: 1.6349e-04\n",
      "Epoch 28/200\n",
      "870/870 [==============================] - 2s 2ms/step - loss: 1.6439e-04\n",
      "Epoch 29/200\n",
      "870/870 [==============================] - 2s 2ms/step - loss: 1.6548e-04\n",
      "Epoch 30/200\n",
      "870/870 [==============================] - 2s 2ms/step - loss: 1.6415e-04\n",
      "Epoch 31/200\n",
      "870/870 [==============================] - 2s 2ms/step - loss: 1.6425e-04\n",
      "Epoch 32/200\n",
      "870/870 [==============================] - 2s 2ms/step - loss: 1.6331e-04\n",
      "Epoch 33/200\n",
      "870/870 [==============================] - 2s 2ms/step - loss: 1.6238e-04\n",
      "Epoch 34/200\n",
      "870/870 [==============================] - 2s 2ms/step - loss: 1.6337e-04\n",
      "Epoch 35/200\n",
      "870/870 [==============================] - 2s 2ms/step - loss: 1.6297e-04\n",
      "Epoch 36/200\n",
      "870/870 [==============================] - 2s 2ms/step - loss: 1.6254e-04\n",
      "Epoch 37/200\n",
      "870/870 [==============================] - 2s 2ms/step - loss: 1.6398e-04\n",
      "Epoch 38/200\n",
      "870/870 [==============================] - 2s 2ms/step - loss: 1.6316e-04\n",
      "Epoch 39/200\n",
      "870/870 [==============================] - 2s 2ms/step - loss: 1.6274e-04\n",
      "Epoch 40/200\n",
      "870/870 [==============================] - 2s 2ms/step - loss: 1.6410e-04\n",
      "Epoch 41/200\n",
      "870/870 [==============================] - 2s 2ms/step - loss: 1.6174e-04\n",
      "Epoch 42/200\n",
      "870/870 [==============================] - 2s 2ms/step - loss: 1.6191e-04\n",
      "Epoch 43/200\n",
      "870/870 [==============================] - 2s 2ms/step - loss: 1.6279e-04\n",
      "Epoch 44/200\n",
      "870/870 [==============================] - 2s 2ms/step - loss: 1.6222e-04\n",
      "Epoch 45/200\n",
      "870/870 [==============================] - 2s 2ms/step - loss: 1.6226e-04\n",
      "Epoch 46/200\n",
      "870/870 [==============================] - 2s 2ms/step - loss: 1.6110e-04\n",
      "Epoch 47/200\n",
      "870/870 [==============================] - 2s 2ms/step - loss: 1.6229e-04\n",
      "Epoch 48/200\n",
      "870/870 [==============================] - 2s 2ms/step - loss: 1.6091e-04\n",
      "Epoch 49/200\n",
      "870/870 [==============================] - 2s 2ms/step - loss: 1.6180e-04\n",
      "Epoch 50/200\n",
      "870/870 [==============================] - 2s 2ms/step - loss: 1.6193e-04\n",
      "Epoch 51/200\n",
      "870/870 [==============================] - 2s 2ms/step - loss: 1.6160e-04\n",
      "Epoch 52/200\n",
      "870/870 [==============================] - 2s 2ms/step - loss: 1.6189e-04\n",
      "Epoch 53/200\n",
      "870/870 [==============================] - 2s 2ms/step - loss: 1.6215e-04\n",
      "Epoch 54/200\n",
      "870/870 [==============================] - 2s 2ms/step - loss: 1.6084e-04\n",
      "Epoch 55/200\n",
      "870/870 [==============================] - 2s 2ms/step - loss: 1.6110e-04\n",
      "Epoch 56/200\n",
      "870/870 [==============================] - 2s 2ms/step - loss: 1.6245e-04\n",
      "Epoch 57/200\n",
      "870/870 [==============================] - 2s 2ms/step - loss: 1.6097e-04\n",
      "Epoch 58/200\n",
      "870/870 [==============================] - 2s 2ms/step - loss: 1.6068e-04\n",
      "Epoch 59/200\n",
      "870/870 [==============================] - 2s 2ms/step - loss: 1.6063e-04\n",
      "Epoch 60/200\n",
      "870/870 [==============================] - 2s 2ms/step - loss: 1.6200e-04\n",
      "Epoch 61/200\n",
      "870/870 [==============================] - 2s 2ms/step - loss: 1.6127e-04\n",
      "Epoch 62/200\n",
      "870/870 [==============================] - 2s 2ms/step - loss: 1.5986e-04\n",
      "Epoch 63/200\n",
      "870/870 [==============================] - 2s 2ms/step - loss: 1.6036e-04\n",
      "Epoch 64/200\n",
      "870/870 [==============================] - 2s 2ms/step - loss: 1.5886e-04\n",
      "Epoch 65/200\n",
      "870/870 [==============================] - 2s 2ms/step - loss: 1.6075e-04\n",
      "Epoch 66/200\n",
      "870/870 [==============================] - 2s 2ms/step - loss: 1.5862e-04\n",
      "Epoch 67/200\n",
      "870/870 [==============================] - 2s 2ms/step - loss: 1.5916e-04\n",
      "Epoch 68/200\n",
      "870/870 [==============================] - 2s 2ms/step - loss: 1.6122e-04\n",
      "Epoch 69/200\n",
      "870/870 [==============================] - 2s 2ms/step - loss: 1.6036e-04\n",
      "Epoch 70/200\n",
      "870/870 [==============================] - 2s 2ms/step - loss: 1.5951e-04\n",
      "Epoch 71/200\n",
      "870/870 [==============================] - 2s 2ms/step - loss: 1.6000e-04\n",
      "Epoch 72/200\n",
      "870/870 [==============================] - 2s 2ms/step - loss: 1.5996e-04A: 0s - loss:\n",
      "Epoch 73/200\n",
      "870/870 [==============================] - 2s 2ms/step - loss: 1.6145e-04\n",
      "Epoch 74/200\n",
      "870/870 [==============================] - 2s 2ms/step - loss: 1.5841e-04\n",
      "Epoch 75/200\n",
      "870/870 [==============================] - 2s 2ms/step - loss: 1.6088e-04\n",
      "Epoch 76/200\n",
      "870/870 [==============================] - 2s 2ms/step - loss: 1.6104e-04\n",
      "Epoch 77/200\n",
      "870/870 [==============================] - 2s 2ms/step - loss: 1.5949e-04\n",
      "Epoch 78/200\n",
      "870/870 [==============================] - 2s 2ms/step - loss: 1.5849e-04\n",
      "Epoch 79/200\n",
      "870/870 [==============================] - 2s 2ms/step - loss: 1.5987e-04\n",
      "Epoch 80/200\n",
      "870/870 [==============================] - 2s 2ms/step - loss: 1.5852e-04\n",
      "Epoch 81/200\n",
      "870/870 [==============================] - 2s 2ms/step - loss: 1.5936e-04\n",
      "Epoch 82/200\n",
      "870/870 [==============================] - 2s 2ms/step - loss: 1.6033e-04\n",
      "Epoch 83/200\n",
      "870/870 [==============================] - 2s 2ms/step - loss: 1.6072e-04\n",
      "Epoch 84/200\n",
      "870/870 [==============================] - 2s 2ms/step - loss: 1.5948e-04\n",
      "Epoch 85/200\n",
      "870/870 [==============================] - 2s 2ms/step - loss: 1.5833e-04\n",
      "Epoch 86/200\n",
      "870/870 [==============================] - 2s 2ms/step - loss: 1.6039e-04\n",
      "Epoch 87/200\n",
      "870/870 [==============================] - 2s 2ms/step - loss: 1.5925e-04\n",
      "Epoch 88/200\n",
      "870/870 [==============================] - 2s 2ms/step - loss: 1.5972e-04\n",
      "Epoch 89/200\n",
      "870/870 [==============================] - 2s 2ms/step - loss: 1.5892e-04\n",
      "Epoch 90/200\n",
      "870/870 [==============================] - 2s 2ms/step - loss: 1.6079e-04\n",
      "Epoch 91/200\n",
      "870/870 [==============================] - 2s 2ms/step - loss: 1.5864e-04A: 0s - loss: 1.602\n",
      "Epoch 92/200\n",
      "870/870 [==============================] - 2s 2ms/step - loss: 1.6044e-04\n",
      "Epoch 93/200\n",
      "870/870 [==============================] - 2s 2ms/step - loss: 1.5956e-04\n",
      "Epoch 94/200\n"
     ]
    },
    {
     "name": "stdout",
     "output_type": "stream",
     "text": [
      "870/870 [==============================] - 2s 2ms/step - loss: 1.5844e-04\n",
      "Epoch 95/200\n",
      "870/870 [==============================] - 2s 2ms/step - loss: 1.6001e-04\n",
      "Epoch 96/200\n",
      "870/870 [==============================] - 2s 2ms/step - loss: 1.5785e-04\n",
      "Epoch 97/200\n",
      "870/870 [==============================] - 2s 2ms/step - loss: 1.5890e-04\n",
      "Epoch 98/200\n",
      "870/870 [==============================] - 2s 2ms/step - loss: 1.5854e-04\n",
      "Epoch 99/200\n",
      "870/870 [==============================] - 2s 2ms/step - loss: 1.6006e-04\n",
      "Epoch 100/200\n",
      "870/870 [==============================] - 2s 2ms/step - loss: 1.5760e-04\n",
      "Epoch 101/200\n",
      "870/870 [==============================] - 2s 2ms/step - loss: 1.5747e-04\n",
      "Epoch 102/200\n",
      "870/870 [==============================] - 2s 2ms/step - loss: 1.5816e-04\n",
      "Epoch 103/200\n",
      "870/870 [==============================] - 2s 2ms/step - loss: 1.5777e-04\n",
      "Epoch 104/200\n",
      "870/870 [==============================] - 2s 2ms/step - loss: 1.5822e-04\n",
      "Epoch 105/200\n",
      "870/870 [==============================] - 2s 2ms/step - loss: 1.5868e-04\n",
      "Epoch 106/200\n",
      "870/870 [==============================] - 2s 2ms/step - loss: 1.5858e-04\n",
      "Epoch 107/200\n",
      "870/870 [==============================] - 2s 2ms/step - loss: 1.5974e-04\n",
      "Epoch 108/200\n",
      "870/870 [==============================] - 2s 2ms/step - loss: 1.5778e-04\n",
      "Epoch 109/200\n",
      "870/870 [==============================] - 2s 2ms/step - loss: 1.5831e-04\n",
      "Epoch 110/200\n",
      "870/870 [==============================] - 2s 2ms/step - loss: 1.5856e-04\n",
      "Epoch 111/200\n",
      "870/870 [==============================] - 2s 2ms/step - loss: 1.5937e-04\n",
      "Epoch 112/200\n",
      "870/870 [==============================] - 2s 2ms/step - loss: 1.5776e-04\n",
      "Epoch 113/200\n",
      "870/870 [==============================] - 2s 2ms/step - loss: 1.5798e-04\n",
      "Epoch 114/200\n",
      "870/870 [==============================] - 2s 2ms/step - loss: 1.5802e-04\n",
      "Epoch 115/200\n",
      "870/870 [==============================] - 2s 2ms/step - loss: 1.5804e-04\n",
      "Epoch 116/200\n",
      "870/870 [==============================] - 2s 2ms/step - loss: 1.5729e-04\n",
      "Epoch 117/200\n",
      "870/870 [==============================] - 2s 2ms/step - loss: 1.5773e-04\n",
      "Epoch 118/200\n",
      "870/870 [==============================] - 2s 2ms/step - loss: 1.5782e-04\n",
      "Epoch 119/200\n",
      "870/870 [==============================] - 2s 2ms/step - loss: 1.5687e-04\n",
      "Epoch 120/200\n",
      "870/870 [==============================] - 2s 2ms/step - loss: 1.5768e-04\n",
      "Epoch 121/200\n",
      "870/870 [==============================] - 2s 2ms/step - loss: 1.5896e-04\n",
      "Epoch 122/200\n",
      "870/870 [==============================] - 2s 2ms/step - loss: 1.5792e-04\n",
      "Epoch 123/200\n",
      "870/870 [==============================] - 2s 2ms/step - loss: 1.5824e-04\n",
      "Epoch 124/200\n",
      "870/870 [==============================] - 2s 2ms/step - loss: 1.5676e-04\n",
      "Epoch 125/200\n",
      "870/870 [==============================] - 2s 2ms/step - loss: 1.5870e-04\n",
      "Epoch 126/200\n",
      "870/870 [==============================] - 2s 2ms/step - loss: 1.5718e-04\n",
      "Epoch 127/200\n",
      "870/870 [==============================] - 2s 2ms/step - loss: 1.5689e-04\n",
      "Epoch 128/200\n",
      "870/870 [==============================] - 2s 2ms/step - loss: 1.5811e-04\n",
      "Epoch 129/200\n",
      "870/870 [==============================] - 2s 2ms/step - loss: 1.5845e-04\n",
      "Epoch 130/200\n",
      "870/870 [==============================] - 2s 2ms/step - loss: 1.5823e-04\n",
      "Epoch 131/200\n",
      "870/870 [==============================] - 2s 2ms/step - loss: 1.5605e-04\n",
      "Epoch 132/200\n",
      "870/870 [==============================] - 2s 2ms/step - loss: 1.5601e-04\n",
      "Epoch 133/200\n",
      "870/870 [==============================] - 2s 2ms/step - loss: 1.5819e-04\n",
      "Epoch 134/200\n",
      "870/870 [==============================] - 2s 2ms/step - loss: 1.5695e-04\n",
      "Epoch 135/200\n",
      "870/870 [==============================] - 2s 2ms/step - loss: 1.5725e-04\n",
      "Epoch 136/200\n",
      "870/870 [==============================] - 2s 2ms/step - loss: 1.5668e-04\n",
      "Epoch 137/200\n",
      "870/870 [==============================] - 2s 2ms/step - loss: 1.5762e-04\n",
      "Epoch 138/200\n",
      "870/870 [==============================] - 2s 2ms/step - loss: 1.5750e-04\n",
      "Epoch 139/200\n",
      "870/870 [==============================] - 2s 2ms/step - loss: 1.5873e-04\n",
      "Epoch 140/200\n",
      "870/870 [==============================] - 2s 2ms/step - loss: 1.5814e-04\n",
      "Epoch 141/200\n",
      "870/870 [==============================] - 2s 2ms/step - loss: 1.5696e-04\n",
      "Epoch 142/200\n",
      "870/870 [==============================] - 2s 2ms/step - loss: 1.5820e-04\n",
      "Epoch 143/200\n",
      "870/870 [==============================] - 2s 2ms/step - loss: 1.5822e-04\n",
      "Epoch 144/200\n",
      "870/870 [==============================] - 2s 2ms/step - loss: 1.5747e-04\n",
      "Epoch 145/200\n",
      "870/870 [==============================] - 2s 2ms/step - loss: 1.5822e-04\n",
      "Epoch 146/200\n",
      "870/870 [==============================] - 2s 2ms/step - loss: 1.5657e-04\n",
      "Epoch 147/200\n",
      "870/870 [==============================] - 2s 2ms/step - loss: 1.5628e-04\n",
      "Epoch 148/200\n",
      "870/870 [==============================] - 2s 2ms/step - loss: 1.5698e-04\n",
      "Epoch 149/200\n",
      "870/870 [==============================] - 2s 2ms/step - loss: 1.5703e-04\n",
      "Epoch 150/200\n",
      "870/870 [==============================] - 2s 2ms/step - loss: 1.5669e-04\n",
      "Epoch 151/200\n",
      "870/870 [==============================] - 2s 2ms/step - loss: 1.5748e-04\n",
      "Epoch 152/200\n",
      "870/870 [==============================] - 2s 2ms/step - loss: 1.5791e-04\n",
      "Epoch 153/200\n",
      "870/870 [==============================] - 2s 2ms/step - loss: 1.5732e-04\n",
      "Epoch 154/200\n",
      "870/870 [==============================] - 2s 2ms/step - loss: 1.5730e-04\n",
      "Epoch 155/200\n",
      "870/870 [==============================] - 2s 2ms/step - loss: 1.5808e-04\n",
      "Epoch 156/200\n",
      "870/870 [==============================] - 2s 2ms/step - loss: 1.5680e-04\n",
      "Epoch 157/200\n",
      "870/870 [==============================] - 2s 2ms/step - loss: 1.5728e-04\n",
      "Epoch 158/200\n",
      "870/870 [==============================] - 2s 2ms/step - loss: 1.5650e-04\n",
      "Epoch 159/200\n",
      "870/870 [==============================] - 2s 2ms/step - loss: 1.5700e-04\n",
      "Epoch 160/200\n",
      "870/870 [==============================] - 2s 2ms/step - loss: 1.5816e-04\n",
      "Epoch 161/200\n",
      "870/870 [==============================] - 2s 2ms/step - loss: 1.5733e-04\n",
      "Epoch 162/200\n",
      "870/870 [==============================] - 2s 2ms/step - loss: 1.5727e-04\n",
      "Epoch 163/200\n",
      "870/870 [==============================] - 2s 2ms/step - loss: 1.5692e-04\n",
      "Epoch 164/200\n",
      "870/870 [==============================] - 2s 2ms/step - loss: 1.5571e-04\n",
      "Epoch 165/200\n",
      "870/870 [==============================] - 2s 2ms/step - loss: 1.5617e-04\n",
      "Epoch 166/200\n",
      "870/870 [==============================] - 2s 2ms/step - loss: 1.5676e-04\n",
      "Epoch 167/200\n",
      "870/870 [==============================] - 2s 2ms/step - loss: 1.5577e-04\n",
      "Epoch 168/200\n",
      "870/870 [==============================] - 2s 2ms/step - loss: 1.5560e-04\n",
      "Epoch 169/200\n",
      "870/870 [==============================] - 2s 2ms/step - loss: 1.5730e-04\n",
      "Epoch 170/200\n",
      "870/870 [==============================] - 2s 2ms/step - loss: 1.5776e-04\n",
      "Epoch 171/200\n",
      "870/870 [==============================] - 2s 2ms/step - loss: 1.5603e-04\n",
      "Epoch 172/200\n",
      "870/870 [==============================] - 2s 2ms/step - loss: 1.5689e-04\n",
      "Epoch 173/200\n",
      "870/870 [==============================] - 2s 2ms/step - loss: 1.5523e-04\n",
      "Epoch 174/200\n",
      "870/870 [==============================] - 2s 2ms/step - loss: 1.5674e-04\n",
      "Epoch 175/200\n",
      "870/870 [==============================] - 2s 2ms/step - loss: 1.5819e-04\n",
      "Epoch 176/200\n",
      "870/870 [==============================] - 2s 2ms/step - loss: 1.5850e-04\n",
      "Epoch 177/200\n",
      "870/870 [==============================] - 2s 2ms/step - loss: 1.5796e-04\n",
      "Epoch 178/200\n",
      "870/870 [==============================] - 2s 2ms/step - loss: 1.5682e-04\n",
      "Epoch 179/200\n",
      "870/870 [==============================] - 2s 2ms/step - loss: 1.5491e-04\n",
      "Epoch 180/200\n",
      "870/870 [==============================] - 2s 2ms/step - loss: 1.5588e-04\n",
      "Epoch 181/200\n",
      "870/870 [==============================] - 2s 2ms/step - loss: 1.5685e-04\n",
      "Epoch 182/200\n",
      "870/870 [==============================] - 2s 2ms/step - loss: 1.5471e-04\n",
      "Epoch 183/200\n",
      "870/870 [==============================] - 2s 2ms/step - loss: 1.5710e-04\n",
      "Epoch 184/200\n",
      "870/870 [==============================] - 2s 2ms/step - loss: 1.5488e-04\n",
      "Epoch 185/200\n",
      "870/870 [==============================] - 2s 2ms/step - loss: 1.5622e-04\n",
      "Epoch 186/200\n",
      "870/870 [==============================] - 2s 2ms/step - loss: 1.5737e-04\n",
      "Epoch 187/200\n"
     ]
    },
    {
     "name": "stdout",
     "output_type": "stream",
     "text": [
      "870/870 [==============================] - 2s 2ms/step - loss: 1.5640e-04\n",
      "Epoch 188/200\n",
      "870/870 [==============================] - 2s 2ms/step - loss: 1.5657e-04\n",
      "Epoch 189/200\n",
      "870/870 [==============================] - 2s 2ms/step - loss: 1.5631e-04\n",
      "Epoch 190/200\n",
      "870/870 [==============================] - 2s 2ms/step - loss: 1.5529e-04\n",
      "Epoch 191/200\n",
      "870/870 [==============================] - 2s 2ms/step - loss: 1.5784e-04\n",
      "Epoch 192/200\n",
      "870/870 [==============================] - 2s 2ms/step - loss: 1.5461e-04\n",
      "Epoch 193/200\n",
      "870/870 [==============================] - 2s 2ms/step - loss: 1.5615e-04\n",
      "Epoch 194/200\n",
      "870/870 [==============================] - 2s 2ms/step - loss: 1.5520e-04\n",
      "Epoch 195/200\n",
      "870/870 [==============================] - 2s 2ms/step - loss: 1.5536e-04\n",
      "Epoch 196/200\n",
      "870/870 [==============================] - 2s 3ms/step - loss: 1.5583e-04\n",
      "Epoch 197/200\n",
      "870/870 [==============================] - 2s 2ms/step - loss: 1.5641e-04\n",
      "Epoch 198/200\n",
      "870/870 [==============================] - 2s 2ms/step - loss: 1.5594e-04\n",
      "Epoch 199/200\n",
      "870/870 [==============================] - 2s 2ms/step - loss: 1.5401e-04\n",
      "Epoch 200/200\n",
      "870/870 [==============================] - 2s 2ms/step - loss: 1.5359e-04\n"
     ]
    },
    {
     "data": {
      "text/plain": [
       "<keras.callbacks.History at 0x1a24de1510>"
      ]
     },
     "execution_count": 5,
     "metadata": {},
     "output_type": "execute_result"
    }
   ],
   "source": [
    "seq = df['Return'].values\n",
    "seq = [np.array(seq[i * input_size: (i + 1) * input_size]) for i in range(len(seq) // input_size)]\n",
    "\n",
    "X = np.array([seq[i: i + num_steps] for i in range(len(seq) - num_steps)])\n",
    "x_train, x_test = X[:cutoff], X[cutoff:]\n",
    "\n",
    "model = Sequential()\n",
    "model.add(LSTM(256, dropout=0.1, return_sequences=True))\n",
    "model.add(LSTM(128, dropout=0.1))\n",
    "model.add(Dense(5))\n",
    "model.compile(optimizer='RMSprop', loss='mean_squared_error')\n",
    "model.fit(x_train, y_train, epochs=n_epochs)"
   ]
  },
  {
   "cell_type": "code",
   "execution_count": 6,
   "metadata": {},
   "outputs": [
    {
     "data": {
      "text/plain": [
       "[<matplotlib.lines.Line2D at 0x1a254b49d0>]"
      ]
     },
     "execution_count": 6,
     "metadata": {},
     "output_type": "execute_result"
    },
    {
     "data": {
      "image/png": "[encoded data removed]",
      "text/plain": [
       "<Figure size 432x288 with 1 Axes>"
      ]
     },
     "metadata": {
      "needs_background": "light"
     },
     "output_type": "display_data"
    }
   ],
   "source": [
    "y_hat = model.predict(x_test)\n",
    "plt.plot(y_hat.flatten())"
   ]
  },
  {
   "cell_type": "code",
   "execution_count": 7,
   "metadata": {},
   "outputs": [
    {
     "data": {
      "text/plain": [
       "[<matplotlib.lines.Line2D at 0x1a2564e1d0>]"
      ]
     },
     "execution_count": 7,
     "metadata": {},
     "output_type": "execute_result"
    },
    {
     "data": {
      "image/png": "[encoded data removed]",
      "text/plain": [
       "<Figure size 432x288 with 1 Axes>"
      ]
     },
     "metadata": {
      "needs_background": "light"
     },
     "output_type": "display_data"
    }
   ],
   "source": [
    "plt.plot(y_hat.flatten() - y_test.flatten())"
   ]
  },
  {
   "cell_type": "code",
   "execution_count": 8,
   "metadata": {},
   "outputs": [
    {
     "data": {
      "text/plain": [
       "7.761528140533806e-05"
      ]
     },
     "execution_count": 8,
     "metadata": {},
     "output_type": "execute_result"
    }
   ],
   "source": [
    "mean_squared_error(y_hat.flatten(), y_test.flatten())"
   ]
  },
  {
   "cell_type": "code",
   "execution_count": null,
   "metadata": {},
   "outputs": [],
   "source": []
  },
  {
   "cell_type": "code",
   "execution_count": 46,
   "metadata": {},
   "outputs": [],
   "source": [
    "longshort = [100]\n",
    "for i in range(y_test.shape[0]):\n",
    "    val = 100\n",
    "    for ret in y_hat[i]:\n",
    "        val *= np.exp(ret)\n",
    "    if val >= 100:  # buy/hold\n",
    "        for ret in y_test[i]:\n",
    "            longshort.append(longshort[-1] * np.exp(ret))\n",
    "    else:\n",
    "        for ret in y_test[i]:\n",
    "            longshort.append(longshort[-1] * np.exp(-ret))"
   ]
  },
  {
   "cell_type": "code",
   "execution_count": 47,
   "metadata": {},
   "outputs": [
    {
     "data": {
      "text/plain": [
       "Text(0.5,1,'LSTM Portfolio Performance Without Denoising')"
      ]
     },
     "execution_count": 47,
     "metadata": {},
     "output_type": "execute_result"
    },
    {
     "data": {
      "image/png": "[encoded data removed]",
      "text/plain": [
       "<Figure size 720x360 with 1 Axes>"
      ]
     },
     "metadata": {
      "needs_background": "light"
     },
     "output_type": "display_data"
    }
   ],
   "source": [
    "fig, ax = plt.subplots(figsize=[10, 5])\n",
    "ax.plot(portfolio_vals)\n",
    "ax.set_title('LSTM Portfolio Performance Without Denoising')"
   ]
  },
  {
   "cell_type": "code",
   "execution_count": 40,
   "metadata": {},
   "outputs": [
    {
     "name": "stdout",
     "output_type": "stream",
     "text": [
      "Total Return = -0.10980442253381384\n",
      "Return Mean =  -0.00781254620577\n",
      "Return Stdev =  0.833836394785\n",
      "Sharpe =  -0.936939938654\n"
     ]
    }
   ],
   "source": [
    "portfolio_vals = pd.Series(portfolio_vals)\n",
    "returns = portfolio_vals.pct_change()\n",
    "\n",
    "print 'Total Return =', portfolio_vals.iloc[-1] / portfolio_vals.iloc[0] - 1\n",
    "print 'Return Mean = ', returns.mean() * 100\n",
    "print 'Return Stdev = ', returns.std() * 100\n",
    "print 'Sharpe = ', returns.mean() / returns.std() * 100"
   ]
  },
  {
   "cell_type": "code",
   "execution_count": null,
   "metadata": {},
   "outputs": [],
   "source": []
  },
  {
   "cell_type": "code",
   "execution_count": 59,
   "metadata": {},
   "outputs": [],
   "source": [
    "pd.DataFrame({'LSTM w/o Filter': longshort}).to_csv('nofilter.csv', index=False)"
   ]
  },
  {
   "cell_type": "code",
   "execution_count": null,
   "metadata": {},
   "outputs": [],
   "source": []
  },
  {
   "cell_type": "code",
   "execution_count": 61,
   "metadata": {},
   "outputs": [
    {
     "data": {
      "text/plain": [
       "7.761528140533806e-05"
      ]
     },
     "execution_count": 61,
     "metadata": {},
     "output_type": "execute_result"
    }
   ],
   "source": [
    "mean_squared_error(y_hat.flatten(), y_test.flatten())"
   ]
  },
  {
   "cell_type": "code",
   "execution_count": 62,
   "metadata": {},
   "outputs": [
    {
     "data": {
      "text/plain": [
       "0.009624359007454222"
      ]
     },
     "execution_count": 62,
     "metadata": {},
     "output_type": "execute_result"
    }
   ],
   "source": [
    "y_hat_train = model.predict(x_train)\n",
    "\n",
    "mean_squared_error(y_hat_train.flatten(), y_train.flatten())"
   ]
  },
  {
   "cell_type": "code",
   "execution_count": 65,
   "metadata": {},
   "outputs": [
    {
     "data": {
      "text/plain": [
       "'9.62E-03'"
      ]
     },
     "execution_count": 65,
     "metadata": {},
     "output_type": "execute_result"
    }
   ],
   "source": [
    "from decimal import Decimal\n",
    "\n",
    "'%.2E' % Decimal('0.009624359007454222')"
   ]
  },
  {
   "cell_type": "code",
   "execution_count": null,
   "metadata": {},
   "outputs": [],
   "source": []
  }
 ],
 "metadata": {
  "kernelspec": {
   "display_name": "Python 2",
   "language": "python",
   "name": "python2"
  },
  "language_info": {
   "codemirror_mode": {
    "name": "ipython",
    "version": 2
   },
   "file_extension": ".py",
   "mimetype": "text/x-python",
   "name": "python",
   "nbconvert_exporter": "python",
   "pygments_lexer": "ipython2",
   "version": "2.7.15"
  }
 },
 "nbformat": 4,
 "nbformat_minor": 2
}
