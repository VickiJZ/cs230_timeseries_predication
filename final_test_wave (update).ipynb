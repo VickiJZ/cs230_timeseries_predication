{
 "cells": [
  {
   "cell_type": "code",
   "execution_count": 1,
   "metadata": {},
   "outputs": [
    {
     "name": "stderr",
     "output_type": "stream",
     "text": [
      "Using TensorFlow backend.\n"
     ]
    }
   ],
   "source": [
    "from __future__ import division\n",
    "\n",
    "import os\n",
    "import numpy as np\n",
    "import pandas as pd\n",
    "import ta\n",
    "import keras\n",
    "from keras.models import Sequential\n",
    "from keras.layers import LSTM, Dense\n",
    "from sklearn.metrics import mean_squared_error\n",
    "\n",
    "import tensorflow as tf\n",
    "\n",
    "%matplotlib inline\n",
    "import matplotlib.pyplot as plt"
   ]
  },
  {
   "cell_type": "code",
   "execution_count": 2,
   "metadata": {},
   "outputs": [],
   "source": [
    "df = pd.read_csv('DF_SPY.csv', parse_dates=['Date'], index_col=['Date'])"
   ]
  },
  {
   "cell_type": "code",
   "execution_count": 3,
   "metadata": {},
   "outputs": [],
   "source": [
    "input_size = 5\n",
    "num_steps = 12\n",
    "n_epochs = 200\n",
    "\n",
    "cutoff = int(len(df) * 0.8)\n",
    "cutoff = int(cutoff / input_size)"
   ]
  },
  {
   "cell_type": "code",
   "execution_count": 4,
   "metadata": {},
   "outputs": [],
   "source": [
    "seq = df['Return'].values\n",
    "seq = [np.array(seq[i * input_size: (i + 1) * input_size]) for i in range(len(seq) // input_size)]\n",
    "\n",
    "y = np.array([seq[i + num_steps] for i in range(len(seq) - num_steps)])\n",
    "y_train, y_test = y[:cutoff], y[cutoff:]"
   ]
  },
  {
   "cell_type": "code",
   "execution_count": 5,
   "metadata": {
    "scrolled": true
   },
   "outputs": [
    {
     "name": "stdout",
     "output_type": "stream",
     "text": [
      "Epoch 1/200\n",
      "870/870 [==============================] - 3s 4ms/step - loss: 2.2655e-04\n",
      "Epoch 2/200\n",
      "870/870 [==============================] - 2s 2ms/step - loss: 1.7950e-04\n",
      "Epoch 3/200\n",
      "870/870 [==============================] - 2s 2ms/step - loss: 1.7598e-04\n",
      "Epoch 4/200\n",
      "870/870 [==============================] - 2s 2ms/step - loss: 1.7358e-04\n",
      "Epoch 5/200\n",
      "870/870 [==============================] - 2s 3ms/step - loss: 1.7129e-04\n",
      "Epoch 6/200\n",
      "870/870 [==============================] - 2s 2ms/step - loss: 1.7197e-04\n",
      "Epoch 7/200\n",
      "870/870 [==============================] - 2s 2ms/step - loss: 1.6922e-04\n",
      "Epoch 8/200\n",
      "870/870 [==============================] - 2s 2ms/step - loss: 1.7018e-04\n",
      "Epoch 9/200\n",
      "870/870 [==============================] - 2s 2ms/step - loss: 1.6825e-04\n",
      "Epoch 10/200\n",
      "870/870 [==============================] - 2s 2ms/step - loss: 1.6949e-04\n",
      "Epoch 11/200\n",
      "870/870 [==============================] - 2s 2ms/step - loss: 1.6880e-04\n",
      "Epoch 12/200\n",
      "870/870 [==============================] - 1s 1ms/step - loss: 1.6832e-04\n",
      "Epoch 13/200\n",
      "870/870 [==============================] - 1s 1ms/step - loss: 1.6757e-04\n",
      "Epoch 14/200\n",
      "870/870 [==============================] - 1s 1ms/step - loss: 1.6787e-04\n",
      "Epoch 15/200\n",
      "870/870 [==============================] - 1s 1ms/step - loss: 1.6881e-04\n",
      "Epoch 16/200\n",
      "870/870 [==============================] - 1s 2ms/step - loss: 1.6721e-04\n",
      "Epoch 17/200\n",
      "870/870 [==============================] - 2s 2ms/step - loss: 1.6706e-04\n",
      "Epoch 18/200\n",
      "870/870 [==============================] - 2s 3ms/step - loss: 1.6451e-04\n",
      "Epoch 19/200\n",
      "870/870 [==============================] - 3s 3ms/step - loss: 1.6721e-04\n",
      "Epoch 20/200\n",
      "870/870 [==============================] - 3s 3ms/step - loss: 1.6655e-04\n",
      "Epoch 21/200\n",
      "870/870 [==============================] - 3s 3ms/step - loss: 1.6533e-04\n",
      "Epoch 22/200\n",
      "870/870 [==============================] - 3s 3ms/step - loss: 1.6651e-04\n",
      "Epoch 23/200\n",
      "870/870 [==============================] - 3s 3ms/step - loss: 1.6728e-04\n",
      "Epoch 24/200\n",
      "870/870 [==============================] - 3s 3ms/step - loss: 1.6516e-04\n",
      "Epoch 25/200\n",
      "870/870 [==============================] - 3s 3ms/step - loss: 1.6612e-04\n",
      "Epoch 26/200\n",
      "870/870 [==============================] - 3s 3ms/step - loss: 1.6605e-04\n",
      "Epoch 27/200\n",
      "870/870 [==============================] - 3s 3ms/step - loss: 1.6632e-04\n",
      "Epoch 28/200\n",
      "870/870 [==============================] - 3s 3ms/step - loss: 1.6564e-04\n",
      "Epoch 29/200\n",
      "870/870 [==============================] - 3s 3ms/step - loss: 1.6512e-04\n",
      "Epoch 30/200\n",
      "870/870 [==============================] - 3s 3ms/step - loss: 1.6555e-04\n",
      "Epoch 31/200\n",
      "870/870 [==============================] - 3s 3ms/step - loss: 1.6424e-04\n",
      "Epoch 32/200\n",
      "870/870 [==============================] - 3s 3ms/step - loss: 1.6444e-04A: 0s - loss: 1.614\n",
      "Epoch 33/200\n",
      "870/870 [==============================] - 3s 3ms/step - loss: 1.6415e-04\n",
      "Epoch 34/200\n",
      "870/870 [==============================] - 3s 3ms/step - loss: 1.6459e-04\n",
      "Epoch 35/200\n",
      "870/870 [==============================] - 3s 3ms/step - loss: 1.6367e-04\n",
      "Epoch 36/200\n",
      "870/870 [==============================] - 3s 3ms/step - loss: 1.6553e-04\n",
      "Epoch 37/200\n",
      "870/870 [==============================] - 3s 3ms/step - loss: 1.6424e-04\n",
      "Epoch 38/200\n",
      "870/870 [==============================] - 3s 3ms/step - loss: 1.6414e-04\n",
      "Epoch 39/200\n",
      "870/870 [==============================] - 3s 3ms/step - loss: 1.6395e-04\n",
      "Epoch 40/200\n",
      "870/870 [==============================] - 3s 3ms/step - loss: 1.6348e-04\n",
      "Epoch 41/200\n",
      "870/870 [==============================] - 3s 3ms/step - loss: 1.6288e-04\n",
      "Epoch 42/200\n",
      "870/870 [==============================] - 3s 3ms/step - loss: 1.6248e-04\n",
      "Epoch 43/200\n",
      "870/870 [==============================] - 3s 4ms/step - loss: 1.6325e-04\n",
      "Epoch 44/200\n",
      "870/870 [==============================] - 3s 4ms/step - loss: 1.6329e-04\n",
      "Epoch 45/200\n",
      "870/870 [==============================] - 3s 4ms/step - loss: 1.6238e-04\n",
      "Epoch 46/200\n",
      "870/870 [==============================] - 3s 3ms/step - loss: 1.6422e-04\n",
      "Epoch 47/200\n",
      "870/870 [==============================] - 3s 4ms/step - loss: 1.6192e-04\n",
      "Epoch 48/200\n",
      "870/870 [==============================] - 3s 4ms/step - loss: 1.6313e-04\n",
      "Epoch 49/200\n",
      "870/870 [==============================] - 3s 3ms/step - loss: 1.6271e-04\n",
      "Epoch 50/200\n",
      "870/870 [==============================] - 3s 3ms/step - loss: 1.6239e-04\n",
      "Epoch 51/200\n",
      "870/870 [==============================] - 2s 3ms/step - loss: 1.6308e-04\n",
      "Epoch 52/200\n",
      "870/870 [==============================] - 3s 3ms/step - loss: 1.6110e-04\n",
      "Epoch 53/200\n",
      "870/870 [==============================] - 3s 3ms/step - loss: 1.6249e-04\n",
      "Epoch 54/200\n",
      "870/870 [==============================] - 3s 3ms/step - loss: 1.6186e-04\n",
      "Epoch 55/200\n",
      "870/870 [==============================] - 3s 4ms/step - loss: 1.6156e-04\n",
      "Epoch 56/200\n",
      "870/870 [==============================] - 4s 5ms/step - loss: 1.6024e-04\n",
      "Epoch 57/200\n",
      "870/870 [==============================] - 3s 4ms/step - loss: 1.6064e-04\n",
      "Epoch 58/200\n",
      "870/870 [==============================] - 3s 3ms/step - loss: 1.6191e-04\n",
      "Epoch 59/200\n",
      "870/870 [==============================] - 4s 4ms/step - loss: 1.6040e-04\n",
      "Epoch 60/200\n",
      "870/870 [==============================] - 4s 4ms/step - loss: 1.6300e-04\n",
      "Epoch 61/200\n",
      "870/870 [==============================] - 3s 4ms/step - loss: 1.6088e-04\n",
      "Epoch 62/200\n",
      "870/870 [==============================] - 3s 3ms/step - loss: 1.5997e-04\n",
      "Epoch 63/200\n",
      "870/870 [==============================] - 3s 4ms/step - loss: 1.5964e-04\n",
      "Epoch 64/200\n",
      "870/870 [==============================] - 3s 3ms/step - loss: 1.6122e-04\n",
      "Epoch 65/200\n",
      "870/870 [==============================] - 3s 4ms/step - loss: 1.6052e-04\n",
      "Epoch 66/200\n",
      "870/870 [==============================] - 3s 3ms/step - loss: 1.5895e-04\n",
      "Epoch 67/200\n",
      "870/870 [==============================] - 3s 4ms/step - loss: 1.5957e-04\n",
      "Epoch 68/200\n",
      "870/870 [==============================] - 3s 4ms/step - loss: 1.6030e-04\n",
      "Epoch 69/200\n",
      "870/870 [==============================] - 4s 4ms/step - loss: 1.5983e-04\n",
      "Epoch 70/200\n",
      "870/870 [==============================] - 4s 4ms/step - loss: 1.5972e-04\n",
      "Epoch 71/200\n",
      "870/870 [==============================] - 3s 4ms/step - loss: 1.5912e-04\n",
      "Epoch 72/200\n",
      "870/870 [==============================] - 3s 4ms/step - loss: 1.5790e-04\n",
      "Epoch 73/200\n",
      "870/870 [==============================] - 3s 4ms/step - loss: 1.5934e-04\n",
      "Epoch 74/200\n",
      "870/870 [==============================] - 4s 4ms/step - loss: 1.5789e-04\n",
      "Epoch 75/200\n",
      "870/870 [==============================] - 3s 4ms/step - loss: 1.5806e-04\n",
      "Epoch 76/200\n",
      "870/870 [==============================] - 3s 4ms/step - loss: 1.5899e-04\n",
      "Epoch 77/200\n",
      "870/870 [==============================] - 3s 4ms/step - loss: 1.5663e-04\n",
      "Epoch 78/200\n",
      "870/870 [==============================] - 3s 4ms/step - loss: 1.5999e-04\n",
      "Epoch 79/200\n",
      "870/870 [==============================] - 3s 4ms/step - loss: 1.5817e-04\n",
      "Epoch 80/200\n",
      "870/870 [==============================] - 3s 3ms/step - loss: 1.5898e-04\n",
      "Epoch 81/200\n",
      "870/870 [==============================] - 3s 3ms/step - loss: 1.5898e-04\n",
      "Epoch 82/200\n",
      "870/870 [==============================] - 3s 3ms/step - loss: 1.5924e-04A: 0s - loss: 1.5601e\n",
      "Epoch 83/200\n",
      "870/870 [==============================] - 3s 4ms/step - loss: 1.5954e-04\n",
      "Epoch 84/200\n",
      "870/870 [==============================] - 3s 4ms/step - loss: 1.5847e-04\n",
      "Epoch 85/200\n",
      "870/870 [==============================] - 3s 3ms/step - loss: 1.5908e-04\n",
      "Epoch 86/200\n",
      "870/870 [==============================] - 3s 3ms/step - loss: 1.6057e-04\n",
      "Epoch 87/200\n",
      "870/870 [==============================] - 3s 4ms/step - loss: 1.5799e-04\n",
      "Epoch 88/200\n",
      "870/870 [==============================] - 3s 3ms/step - loss: 1.5833e-04\n",
      "Epoch 89/200\n",
      "870/870 [==============================] - 3s 3ms/step - loss: 1.5821e-04\n",
      "Epoch 90/200\n",
      "870/870 [==============================] - 3s 3ms/step - loss: 1.5922e-04\n",
      "Epoch 91/200\n",
      "870/870 [==============================] - 3s 3ms/step - loss: 1.5863e-04\n",
      "Epoch 92/200\n",
      "870/870 [==============================] - 3s 3ms/step - loss: 1.5910e-04\n",
      "Epoch 93/200\n",
      "870/870 [==============================] - 3s 3ms/step - loss: 1.5987e-04\n",
      "Epoch 94/200\n"
     ]
    },
    {
     "name": "stdout",
     "output_type": "stream",
     "text": [
      "870/870 [==============================] - 3s 4ms/step - loss: 1.5963e-04\n",
      "Epoch 95/200\n",
      "870/870 [==============================] - 3s 3ms/step - loss: 1.5655e-04\n",
      "Epoch 96/200\n",
      "870/870 [==============================] - 3s 4ms/step - loss: 1.5714e-04\n",
      "Epoch 97/200\n",
      "870/870 [==============================] - 3s 3ms/step - loss: 1.5752e-04\n",
      "Epoch 98/200\n",
      "870/870 [==============================] - 3s 3ms/step - loss: 1.5669e-04\n",
      "Epoch 99/200\n",
      "870/870 [==============================] - 4s 4ms/step - loss: 1.5949e-04\n",
      "Epoch 100/200\n",
      "870/870 [==============================] - 4s 5ms/step - loss: 1.5774e-04A: 1s - loss: \n",
      "Epoch 101/200\n",
      "870/870 [==============================] - 3s 3ms/step - loss: 1.5655e-04\n",
      "Epoch 102/200\n",
      "870/870 [==============================] - 3s 3ms/step - loss: 1.5636e-04\n",
      "Epoch 103/200\n",
      "870/870 [==============================] - 3s 3ms/step - loss: 1.5984e-04\n",
      "Epoch 104/200\n",
      "870/870 [==============================] - 2s 3ms/step - loss: 1.5734e-04\n",
      "Epoch 105/200\n",
      "870/870 [==============================] - 3s 3ms/step - loss: 1.5903e-04\n",
      "Epoch 106/200\n",
      "870/870 [==============================] - 2s 3ms/step - loss: 1.5753e-04\n",
      "Epoch 107/200\n",
      "870/870 [==============================] - 2s 3ms/step - loss: 1.5794e-04\n",
      "Epoch 108/200\n",
      "870/870 [==============================] - 3s 3ms/step - loss: 1.5880e-04\n",
      "Epoch 109/200\n",
      "870/870 [==============================] - 3s 3ms/step - loss: 1.5792e-04\n",
      "Epoch 110/200\n",
      "870/870 [==============================] - 3s 3ms/step - loss: 1.5886e-04\n",
      "Epoch 111/200\n",
      "870/870 [==============================] - 3s 3ms/step - loss: 1.5659e-04\n",
      "Epoch 112/200\n",
      "870/870 [==============================] - 3s 3ms/step - loss: 1.5866e-04A: 0s - loss: \n",
      "Epoch 113/200\n",
      "870/870 [==============================] - 3s 3ms/step - loss: 1.5777e-04\n",
      "Epoch 114/200\n",
      "870/870 [==============================] - 3s 3ms/step - loss: 1.5744e-04\n",
      "Epoch 115/200\n",
      "870/870 [==============================] - 3s 3ms/step - loss: 1.5797e-04\n",
      "Epoch 116/200\n",
      "870/870 [==============================] - 3s 3ms/step - loss: 1.5953e-04\n",
      "Epoch 117/200\n",
      "870/870 [==============================] - 3s 3ms/step - loss: 1.5749e-04\n",
      "Epoch 118/200\n",
      "870/870 [==============================] - 3s 3ms/step - loss: 1.5705e-04\n",
      "Epoch 119/200\n",
      "870/870 [==============================] - 2s 3ms/step - loss: 1.5585e-04\n",
      "Epoch 120/200\n",
      "870/870 [==============================] - 3s 3ms/step - loss: 1.5706e-04\n",
      "Epoch 121/200\n",
      "870/870 [==============================] - 3s 4ms/step - loss: 1.5710e-04\n",
      "Epoch 122/200\n",
      "870/870 [==============================] - 4s 4ms/step - loss: 1.5760e-04\n",
      "Epoch 123/200\n",
      "870/870 [==============================] - 3s 4ms/step - loss: 1.5683e-04\n",
      "Epoch 124/200\n",
      "870/870 [==============================] - 3s 3ms/step - loss: 1.5758e-04\n",
      "Epoch 125/200\n",
      "870/870 [==============================] - 3s 3ms/step - loss: 1.5613e-04\n",
      "Epoch 126/200\n",
      "870/870 [==============================] - 3s 3ms/step - loss: 1.5460e-04\n",
      "Epoch 127/200\n",
      "870/870 [==============================] - 3s 3ms/step - loss: 1.5645e-04\n",
      "Epoch 128/200\n",
      "870/870 [==============================] - 3s 3ms/step - loss: 1.5619e-04\n",
      "Epoch 129/200\n",
      "870/870 [==============================] - 3s 3ms/step - loss: 1.5743e-04\n",
      "Epoch 130/200\n",
      "870/870 [==============================] - 3s 3ms/step - loss: 1.5644e-04\n",
      "Epoch 131/200\n",
      "870/870 [==============================] - 3s 4ms/step - loss: 1.5541e-04\n",
      "Epoch 132/200\n",
      "870/870 [==============================] - 3s 3ms/step - loss: 1.5765e-04\n",
      "Epoch 133/200\n",
      "870/870 [==============================] - 3s 3ms/step - loss: 1.5698e-04\n",
      "Epoch 134/200\n",
      "870/870 [==============================] - 3s 4ms/step - loss: 1.5445e-04\n",
      "Epoch 135/200\n",
      "870/870 [==============================] - 3s 4ms/step - loss: 1.5650e-04\n",
      "Epoch 136/200\n",
      "870/870 [==============================] - 3s 3ms/step - loss: 1.5587e-04\n",
      "Epoch 137/200\n",
      "870/870 [==============================] - 3s 3ms/step - loss: 1.5540e-04\n",
      "Epoch 138/200\n",
      "870/870 [==============================] - 3s 3ms/step - loss: 1.5756e-04\n",
      "Epoch 139/200\n",
      "870/870 [==============================] - 3s 3ms/step - loss: 1.5594e-04\n",
      "Epoch 140/200\n",
      "870/870 [==============================] - 3s 3ms/step - loss: 1.5655e-04\n",
      "Epoch 141/200\n",
      "870/870 [==============================] - 3s 3ms/step - loss: 1.5882e-04\n",
      "Epoch 142/200\n",
      "870/870 [==============================] - 3s 3ms/step - loss: 1.5776e-04\n",
      "Epoch 143/200\n",
      "870/870 [==============================] - 3s 3ms/step - loss: 1.5663e-04\n",
      "Epoch 144/200\n",
      "870/870 [==============================] - 4s 4ms/step - loss: 1.5709e-04\n",
      "Epoch 145/200\n",
      "870/870 [==============================] - 4s 4ms/step - loss: 1.5721e-04\n",
      "Epoch 146/200\n",
      "870/870 [==============================] - 3s 4ms/step - loss: 1.5570e-04\n",
      "Epoch 147/200\n",
      "870/870 [==============================] - 3s 3ms/step - loss: 1.5595e-04\n",
      "Epoch 148/200\n",
      "870/870 [==============================] - 2s 3ms/step - loss: 1.5543e-04\n",
      "Epoch 149/200\n",
      "870/870 [==============================] - 2s 3ms/step - loss: 1.5624e-04\n",
      "Epoch 150/200\n",
      "870/870 [==============================] - 2s 3ms/step - loss: 1.5505e-04\n",
      "Epoch 151/200\n",
      "870/870 [==============================] - 2s 3ms/step - loss: 1.5505e-04\n",
      "Epoch 152/200\n",
      "870/870 [==============================] - 2s 3ms/step - loss: 1.5506e-04\n",
      "Epoch 153/200\n",
      "870/870 [==============================] - 2s 3ms/step - loss: 1.5469e-04\n",
      "Epoch 154/200\n",
      "870/870 [==============================] - 3s 3ms/step - loss: 1.5521e-04\n",
      "Epoch 155/200\n",
      "870/870 [==============================] - 3s 3ms/step - loss: 1.5491e-04\n",
      "Epoch 156/200\n",
      "870/870 [==============================] - 2s 3ms/step - loss: 1.5661e-04\n",
      "Epoch 157/200\n",
      "870/870 [==============================] - 2s 3ms/step - loss: 1.5593e-04\n",
      "Epoch 158/200\n",
      "870/870 [==============================] - 3s 3ms/step - loss: 1.5559e-04\n",
      "Epoch 159/200\n",
      "870/870 [==============================] - 3s 4ms/step - loss: 1.5538e-04\n",
      "Epoch 160/200\n",
      "870/870 [==============================] - 3s 4ms/step - loss: 1.5537e-04\n",
      "Epoch 161/200\n",
      "870/870 [==============================] - 3s 4ms/step - loss: 1.5593e-04\n",
      "Epoch 162/200\n",
      "870/870 [==============================] - 3s 4ms/step - loss: 1.5448e-04\n",
      "Epoch 163/200\n",
      "870/870 [==============================] - 3s 3ms/step - loss: 1.5396e-04\n",
      "Epoch 164/200\n",
      "870/870 [==============================] - 3s 3ms/step - loss: 1.5508e-04\n",
      "Epoch 165/200\n",
      "870/870 [==============================] - ETA: 0s - loss: 1.5317e-0 - 3s 4ms/step - loss: 1.5270e-04\n",
      "Epoch 166/200\n",
      "870/870 [==============================] - 3s 3ms/step - loss: 1.5404e-04\n",
      "Epoch 167/200\n",
      "870/870 [==============================] - 2s 3ms/step - loss: 1.5657e-04\n",
      "Epoch 168/200\n",
      "870/870 [==============================] - 2s 3ms/step - loss: 1.5632e-04\n",
      "Epoch 169/200\n",
      "870/870 [==============================] - 3s 3ms/step - loss: 1.5419e-04\n",
      "Epoch 170/200\n",
      "870/870 [==============================] - 3s 3ms/step - loss: 1.5589e-04\n",
      "Epoch 171/200\n",
      "870/870 [==============================] - 3s 3ms/step - loss: 1.5314e-04\n",
      "Epoch 172/200\n",
      "870/870 [==============================] - 3s 3ms/step - loss: 1.5502e-04\n",
      "Epoch 173/200\n",
      "870/870 [==============================] - 3s 3ms/step - loss: 1.5455e-04\n",
      "Epoch 174/200\n",
      "870/870 [==============================] - 3s 3ms/step - loss: 1.5405e-04\n",
      "Epoch 175/200\n",
      "870/870 [==============================] - 3s 3ms/step - loss: 1.5477e-04\n",
      "Epoch 176/200\n",
      "870/870 [==============================] - 3s 3ms/step - loss: 1.5366e-04\n",
      "Epoch 177/200\n",
      "870/870 [==============================] - 3s 3ms/step - loss: 1.5398e-04A: 0s - loss: 1.\n",
      "Epoch 178/200\n",
      "870/870 [==============================] - 3s 3ms/step - loss: 1.5628e-04\n",
      "Epoch 179/200\n",
      "870/870 [==============================] - 3s 3ms/step - loss: 1.5229e-04\n",
      "Epoch 180/200\n",
      "870/870 [==============================] - 3s 3ms/step - loss: 1.5369e-04A: 0s - loss: 1.5403e-0\n",
      "Epoch 181/200\n",
      "870/870 [==============================] - 3s 3ms/step - loss: 1.5378e-04\n",
      "Epoch 182/200\n",
      "870/870 [==============================] - 3s 4ms/step - loss: 1.5511e-04\n",
      "Epoch 183/200\n",
      "870/870 [==============================] - 3s 4ms/step - loss: 1.5624e-04\n",
      "Epoch 184/200\n",
      "870/870 [==============================] - 3s 4ms/step - loss: 1.5298e-04\n",
      "Epoch 185/200\n",
      "870/870 [==============================] - 3s 4ms/step - loss: 1.5456e-04\n",
      "Epoch 186/200\n"
     ]
    },
    {
     "name": "stdout",
     "output_type": "stream",
     "text": [
      "870/870 [==============================] - 3s 3ms/step - loss: 1.5504e-04\n",
      "Epoch 187/200\n",
      "870/870 [==============================] - 3s 3ms/step - loss: 1.5260e-04\n",
      "Epoch 188/200\n",
      "870/870 [==============================] - 3s 4ms/step - loss: 1.5357e-04\n",
      "Epoch 189/200\n",
      "870/870 [==============================] - 3s 4ms/step - loss: 1.5377e-04\n",
      "Epoch 190/200\n",
      "870/870 [==============================] - 3s 4ms/step - loss: 1.5399e-04\n",
      "Epoch 191/200\n",
      "870/870 [==============================] - 3s 4ms/step - loss: 1.5279e-04\n",
      "Epoch 192/200\n",
      "870/870 [==============================] - 3s 3ms/step - loss: 1.5261e-04\n",
      "Epoch 193/200\n",
      "870/870 [==============================] - 3s 4ms/step - loss: 1.5250e-04\n",
      "Epoch 194/200\n",
      "870/870 [==============================] - 3s 4ms/step - loss: 1.5477e-04\n",
      "Epoch 195/200\n",
      "870/870 [==============================] - 3s 3ms/step - loss: 1.5271e-04\n",
      "Epoch 196/200\n",
      "870/870 [==============================] - 3s 4ms/step - loss: 1.5440e-04\n",
      "Epoch 197/200\n",
      "870/870 [==============================] - 3s 3ms/step - loss: 1.5478e-04\n",
      "Epoch 198/200\n",
      "870/870 [==============================] - 3s 3ms/step - loss: 1.5109e-04\n",
      "Epoch 199/200\n",
      "870/870 [==============================] - 3s 3ms/step - loss: 1.5259e-04\n",
      "Epoch 200/200\n",
      "870/870 [==============================] - 3s 4ms/step - loss: 1.5314e-04\n"
     ]
    },
    {
     "data": {
      "text/plain": [
       "<keras.callbacks.History at 0x1a2f37d510>"
      ]
     },
     "execution_count": 5,
     "metadata": {},
     "output_type": "execute_result"
    }
   ],
   "source": [
    "seq = df['Wavelet_Return'].values\n",
    "seq = [np.array(seq[i * input_size: (i + 1) * input_size]) for i in range(len(seq) // input_size)]\n",
    "\n",
    "X = np.array([seq[i: i + num_steps] for i in range(len(seq) - num_steps)])\n",
    "x_train, x_test = X[:cutoff], X[cutoff:]\n",
    "\n",
    "model = Sequential()\n",
    "model.add(LSTM(256, dropout=0.1, return_sequences=True))\n",
    "model.add(LSTM(128, dropout=0.1))\n",
    "model.add(Dense(5))\n",
    "model.compile(optimizer='RMSprop', loss='mean_squared_error')\n",
    "model.fit(x_train, y_train, epochs=n_epochs)"
   ]
  },
  {
   "cell_type": "code",
   "execution_count": 6,
   "metadata": {},
   "outputs": [
    {
     "data": {
      "text/plain": [
       "[<matplotlib.lines.Line2D at 0x1a2fb2c8d0>]"
      ]
     },
     "execution_count": 6,
     "metadata": {},
     "output_type": "execute_result"
    },
    {
     "data": {
      "image/png": "[encoded data removed]",
      "text/plain": [
       "<Figure size 432x288 with 1 Axes>"
      ]
     },
     "metadata": {
      "needs_background": "light"
     },
     "output_type": "display_data"
    }
   ],
   "source": [
    "y_hat = model.predict(x_test)\n",
    "plt.plot(y_hat.flatten())"
   ]
  },
  {
   "cell_type": "code",
   "execution_count": 7,
   "metadata": {},
   "outputs": [
    {
     "data": {
      "text/plain": [
       "[<matplotlib.lines.Line2D at 0x1a32c5c290>]"
      ]
     },
     "execution_count": 7,
     "metadata": {},
     "output_type": "execute_result"
    },
    {
     "data": {
      "image/png": "[encoded data removed]",
      "text/plain": [
       "<Figure size 432x288 with 1 Axes>"
      ]
     },
     "metadata": {
      "needs_background": "light"
     },
     "output_type": "display_data"
    }
   ],
   "source": [
    "plt.plot(y_hat.flatten() - y_test.flatten())"
   ]
  },
  {
   "cell_type": "code",
   "execution_count": 8,
   "metadata": {},
   "outputs": [
    {
     "data": {
      "text/plain": [
       "8.452503322297433e-05"
      ]
     },
     "execution_count": 8,
     "metadata": {},
     "output_type": "execute_result"
    }
   ],
   "source": [
    "mean_squared_error(y_hat.flatten(), y_test.flatten())"
   ]
  },
  {
   "cell_type": "code",
   "execution_count": 17,
   "metadata": {},
   "outputs": [
    {
     "data": {
      "text/plain": [
       "(206, 5)"
      ]
     },
     "execution_count": 17,
     "metadata": {},
     "output_type": "execute_result"
    }
   ],
   "source": [
    "y_test.shape"
   ]
  },
  {
   "cell_type": "code",
   "execution_count": 38,
   "metadata": {},
   "outputs": [],
   "source": [
    "longshort = [100]\n",
    "for i in range(y_test.shape[0]):\n",
    "    val = 100\n",
    "    for ret in y_hat[i]:\n",
    "        val *= np.exp(ret)\n",
    "    if val >= 100:  # buy/hold\n",
    "        for ret in y_test[i]:\n",
    "            longshort.append(longshort[-1] * np.exp(ret))\n",
    "    else:\n",
    "        for ret in y_test[i]:\n",
    "            longshort.append(longshort[-1] * np.exp(-ret))"
   ]
  },
  {
   "cell_type": "code",
   "execution_count": 39,
   "metadata": {},
   "outputs": [
    {
     "data": {
      "text/plain": [
       "Text(0.5,1,'LSTM Portfolio Performance With Wavelet Denoising')"
      ]
     },
     "execution_count": 39,
     "metadata": {},
     "output_type": "execute_result"
    },
    {
     "data": {
      "image/png": "[encoded data removed]",
      "text/plain": [
       "<Figure size 720x360 with 1 Axes>"
      ]
     },
     "metadata": {
      "needs_background": "light"
     },
     "output_type": "display_data"
    }
   ],
   "source": [
    "fig, ax = plt.subplots(figsize=[10, 5])\n",
    "ax.plot(longshort)\n",
    "ax.set_title('LSTM Portfolio Performance With Wavelet Denoising')"
   ]
  },
  {
   "cell_type": "code",
   "execution_count": 40,
   "metadata": {},
   "outputs": [
    {
     "name": "stdout",
     "output_type": "stream",
     "text": [
      "Total Return = 0.105533798297341\n",
      "Return Mean =  0.0132284289126\n",
      "Return Stdev =  0.836549660925\n",
      "Sharpe =  1.58130826303\n"
     ]
    }
   ],
   "source": [
    "longshort = pd.Series(longshort)\n",
    "returns = longshort.pct_change()\n",
    "\n",
    "print 'Total Return =', longshort.iloc[-1] / longshort.iloc[0] - 1\n",
    "print 'Return Mean = ', returns.mean() * 100\n",
    "print 'Return Stdev = ', returns.std() * 100\n",
    "print 'Sharpe = ', returns.mean() / returns.std() * 100"
   ]
  },
  {
   "cell_type": "code",
   "execution_count": 51,
   "metadata": {},
   "outputs": [],
   "source": [
    "pd.DataFrame({'Wave + LSTM': longshort}).to_csv('WAVE.csv', index=False)"
   ]
  },
  {
   "cell_type": "code",
   "execution_count": null,
   "metadata": {},
   "outputs": [],
   "source": []
  },
  {
   "cell_type": "code",
   "execution_count": 56,
   "metadata": {},
   "outputs": [
    {
     "data": {
      "text/plain": [
       "8.452503322297433e-05"
      ]
     },
     "execution_count": 56,
     "metadata": {},
     "output_type": "execute_result"
    }
   ],
   "source": [
    "mean_squared_error(y_hat.flatten(), y_test.flatten())"
   ]
  },
  {
   "cell_type": "code",
   "execution_count": 57,
   "metadata": {},
   "outputs": [
    {
     "data": {
      "text/plain": [
       "0.00015328571436832577"
      ]
     },
     "execution_count": 57,
     "metadata": {},
     "output_type": "execute_result"
    }
   ],
   "source": [
    "y_hat_train = model.predict(x_train)\n",
    "\n",
    "mean_squared_error(y_hat_train.flatten(), y_train.flatten())"
   ]
  },
  {
   "cell_type": "code",
   "execution_count": 59,
   "metadata": {},
   "outputs": [
    {
     "data": {
      "text/plain": [
       "'1.53E-04'"
      ]
     },
     "execution_count": 59,
     "metadata": {},
     "output_type": "execute_result"
    }
   ],
   "source": [
    "from decimal import Decimal\n",
    "\n",
    "'%.2E' % Decimal('0.00015328571436832577')"
   ]
  },
  {
   "cell_type": "code",
   "execution_count": null,
   "metadata": {},
   "outputs": [],
   "source": []
  }
 ],
 "metadata": {
  "kernelspec": {
   "display_name": "Python 2",
   "language": "python",
   "name": "python2"
  },
  "language_info": {
   "codemirror_mode": {
    "name": "ipython",
    "version": 2
   },
   "file_extension": ".py",
   "mimetype": "text/x-python",
   "name": "python",
   "nbconvert_exporter": "python",
   "pygments_lexer": "ipython2",
   "version": "2.7.15"
  }
 },
 "nbformat": 4,
 "nbformat_minor": 2
}
