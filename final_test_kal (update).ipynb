{
 "cells": [
  {
   "cell_type": "code",
   "execution_count": 1,
   "metadata": {},
   "outputs": [
    {
     "name": "stderr",
     "output_type": "stream",
     "text": [
      "Using TensorFlow backend.\n"
     ]
    }
   ],
   "source": [
    "from __future__ import division\n",
    "\n",
    "import os\n",
    "import numpy as np\n",
    "import pandas as pd\n",
    "import ta\n",
    "import keras\n",
    "from keras.models import Sequential\n",
    "from keras.layers import LSTM, Dense\n",
    "from sklearn.metrics import mean_squared_error\n",
    "\n",
    "import tensorflow as tf\n",
    "\n",
    "%matplotlib inline\n",
    "import matplotlib.pyplot as plt"
   ]
  },
  {
   "cell_type": "code",
   "execution_count": 2,
   "metadata": {},
   "outputs": [],
   "source": [
    "df = pd.read_csv('DF_SPY.csv', parse_dates=['Date'], index_col=['Date'])"
   ]
  },
  {
   "cell_type": "code",
   "execution_count": 3,
   "metadata": {},
   "outputs": [],
   "source": [
    "input_size = 5\n",
    "num_steps = 12\n",
    "n_epochs = 200\n",
    "\n",
    "cutoff = int(len(df) * 0.8)\n",
    "cutoff = int(cutoff / input_size)"
   ]
  },
  {
   "cell_type": "code",
   "execution_count": 51,
   "metadata": {},
   "outputs": [],
   "source": [
    "seq = df['Return'].values\n",
    "seq = [np.array(seq[i * input_size: (i + 1) * input_size]) for i in range(len(seq) // input_size)]\n",
    "\n",
    "y = np.array([seq[i + num_steps] for i in range(len(seq) - num_steps)])\n",
    "y_train, y_test = y[:cutoff], y[cutoff:]"
   ]
  },
  {
   "cell_type": "code",
   "execution_count": 5,
   "metadata": {
    "scrolled": true
   },
   "outputs": [
    {
     "name": "stdout",
     "output_type": "stream",
     "text": [
      "Epoch 1/200\n",
      "870/870 [==============================] - 8s 9ms/step - loss: 2.3463e-04\n",
      "Epoch 2/200\n",
      "870/870 [==============================] - 3s 3ms/step - loss: 1.8189e-04\n",
      "Epoch 3/200\n",
      "870/870 [==============================] - 3s 3ms/step - loss: 1.7601e-04\n",
      "Epoch 4/200\n",
      "870/870 [==============================] - 3s 3ms/step - loss: 1.7613e-04\n",
      "Epoch 5/200\n",
      "870/870 [==============================] - 3s 3ms/step - loss: 1.7230e-04\n",
      "Epoch 6/200\n",
      "870/870 [==============================] - 3s 3ms/step - loss: 1.7205e-04\n",
      "Epoch 7/200\n",
      "870/870 [==============================] - 3s 3ms/step - loss: 1.6986e-04\n",
      "Epoch 8/200\n",
      "870/870 [==============================] - 3s 3ms/step - loss: 1.7122e-04\n",
      "Epoch 9/200\n",
      "870/870 [==============================] - 3s 3ms/step - loss: 1.6856e-04\n",
      "Epoch 10/200\n",
      "870/870 [==============================] - 3s 3ms/step - loss: 1.6951e-04\n",
      "Epoch 11/200\n",
      "870/870 [==============================] - 3s 3ms/step - loss: 1.6796e-04\n",
      "Epoch 12/200\n",
      "870/870 [==============================] - 3s 3ms/step - loss: 1.6863e-04\n",
      "Epoch 13/200\n",
      "870/870 [==============================] - 3s 3ms/step - loss: 1.6857e-04\n",
      "Epoch 14/200\n",
      "870/870 [==============================] - 3s 3ms/step - loss: 1.6884e-04\n",
      "Epoch 15/200\n",
      "870/870 [==============================] - 3s 3ms/step - loss: 1.6761e-04\n",
      "Epoch 16/200\n",
      "870/870 [==============================] - 3s 3ms/step - loss: 1.6706e-04\n",
      "Epoch 17/200\n",
      "870/870 [==============================] - 3s 3ms/step - loss: 1.6711e-04\n",
      "Epoch 18/200\n",
      "870/870 [==============================] - 3s 3ms/step - loss: 1.6682e-04\n",
      "Epoch 19/200\n",
      "870/870 [==============================] - 3s 3ms/step - loss: 1.6706e-04\n",
      "Epoch 20/200\n",
      "870/870 [==============================] - 3s 3ms/step - loss: 1.6586e-04\n",
      "Epoch 21/200\n",
      "870/870 [==============================] - 3s 3ms/step - loss: 1.6833e-04\n",
      "Epoch 22/200\n",
      "870/870 [==============================] - 4s 4ms/step - loss: 1.6645e-04\n",
      "Epoch 23/200\n",
      "870/870 [==============================] - 3s 4ms/step - loss: 1.6762e-04\n",
      "Epoch 24/200\n",
      "870/870 [==============================] - 3s 4ms/step - loss: 1.6633e-04\n",
      "Epoch 25/200\n",
      "870/870 [==============================] - 3s 3ms/step - loss: 1.6646e-04\n",
      "Epoch 26/200\n",
      "870/870 [==============================] - 3s 4ms/step - loss: 1.6529e-04\n",
      "Epoch 27/200\n",
      "870/870 [==============================] - 3s 4ms/step - loss: 1.6575e-04\n",
      "Epoch 28/200\n",
      "870/870 [==============================] - 3s 3ms/step - loss: 1.6679e-04\n",
      "Epoch 29/200\n",
      "870/870 [==============================] - 3s 3ms/step - loss: 1.6598e-04\n",
      "Epoch 30/200\n",
      "870/870 [==============================] - 2s 3ms/step - loss: 1.6503e-04\n",
      "Epoch 31/200\n",
      "870/870 [==============================] - 3s 3ms/step - loss: 1.6570e-04\n",
      "Epoch 32/200\n",
      "870/870 [==============================] - 3s 3ms/step - loss: 1.6486e-04\n",
      "Epoch 33/200\n",
      "870/870 [==============================] - 3s 3ms/step - loss: 1.6574e-04\n",
      "Epoch 34/200\n",
      "870/870 [==============================] - 4s 4ms/step - loss: 1.6444e-04\n",
      "Epoch 35/200\n",
      "870/870 [==============================] - 4s 4ms/step - loss: 1.6545e-04\n",
      "Epoch 36/200\n",
      "870/870 [==============================] - 3s 3ms/step - loss: 1.6438e-04\n",
      "Epoch 37/200\n",
      "870/870 [==============================] - 3s 3ms/step - loss: 1.6460e-04\n",
      "Epoch 38/200\n",
      "870/870 [==============================] - 4s 4ms/step - loss: 1.6378e-04\n",
      "Epoch 39/200\n",
      "870/870 [==============================] - 4s 4ms/step - loss: 1.6302e-04\n",
      "Epoch 40/200\n",
      "870/870 [==============================] - 3s 4ms/step - loss: 1.6457e-04\n",
      "Epoch 41/200\n",
      "870/870 [==============================] - 3s 3ms/step - loss: 1.6505e-04\n",
      "Epoch 42/200\n",
      "870/870 [==============================] - 3s 4ms/step - loss: 1.6427e-04\n",
      "Epoch 43/200\n",
      "870/870 [==============================] - 3s 3ms/step - loss: 1.6344e-04\n",
      "Epoch 44/200\n",
      "870/870 [==============================] - 3s 3ms/step - loss: 1.6328e-04\n",
      "Epoch 45/200\n",
      "870/870 [==============================] - 3s 3ms/step - loss: 1.6330e-04\n",
      "Epoch 46/200\n",
      "870/870 [==============================] - 4s 4ms/step - loss: 1.6332e-04\n",
      "Epoch 47/200\n",
      "870/870 [==============================] - 4s 4ms/step - loss: 1.6262e-04\n",
      "Epoch 48/200\n",
      "870/870 [==============================] - 4s 4ms/step - loss: 1.6254e-04\n",
      "Epoch 49/200\n",
      "870/870 [==============================] - 4s 4ms/step - loss: 1.6184e-04\n",
      "Epoch 50/200\n",
      "870/870 [==============================] - 3s 4ms/step - loss: 1.6408e-04\n",
      "Epoch 51/200\n",
      "870/870 [==============================] - 3s 4ms/step - loss: 1.6253e-04\n",
      "Epoch 52/200\n",
      "870/870 [==============================] - 3s 4ms/step - loss: 1.6202e-04\n",
      "Epoch 53/200\n",
      "870/870 [==============================] - 4s 4ms/step - loss: 1.6229e-04A\n",
      "Epoch 54/200\n",
      "870/870 [==============================] - 3s 4ms/step - loss: 1.6245e-04\n",
      "Epoch 55/200\n",
      "870/870 [==============================] - 3s 3ms/step - loss: 1.6190e-04\n",
      "Epoch 56/200\n",
      "870/870 [==============================] - 3s 4ms/step - loss: 1.6221e-04\n",
      "Epoch 57/200\n",
      "870/870 [==============================] - 4s 4ms/step - loss: 1.6196e-04\n",
      "Epoch 58/200\n",
      "870/870 [==============================] - 3s 4ms/step - loss: 1.6259e-04\n",
      "Epoch 59/200\n",
      "870/870 [==============================] - 3s 3ms/step - loss: 1.6182e-04\n",
      "Epoch 60/200\n",
      "870/870 [==============================] - 3s 3ms/step - loss: 1.6097e-04\n",
      "Epoch 61/200\n",
      "870/870 [==============================] - 3s 3ms/step - loss: 1.6160e-04\n",
      "Epoch 62/200\n",
      "870/870 [==============================] - 3s 4ms/step - loss: 1.6146e-04\n",
      "Epoch 63/200\n",
      "870/870 [==============================] - 3s 4ms/step - loss: 1.6053e-04\n",
      "Epoch 64/200\n",
      "870/870 [==============================] - 3s 3ms/step - loss: 1.6119e-04\n",
      "Epoch 65/200\n",
      "870/870 [==============================] - 3s 3ms/step - loss: 1.6205e-04\n",
      "Epoch 66/200\n",
      "870/870 [==============================] - 3s 4ms/step - loss: 1.6139e-04\n",
      "Epoch 67/200\n",
      "870/870 [==============================] - 3s 3ms/step - loss: 1.6173e-04\n",
      "Epoch 68/200\n",
      "870/870 [==============================] - 3s 3ms/step - loss: 1.6186e-04\n",
      "Epoch 69/200\n",
      "870/870 [==============================] - 3s 3ms/step - loss: 1.6077e-04\n",
      "Epoch 70/200\n",
      "870/870 [==============================] - 3s 3ms/step - loss: 1.6208e-04\n",
      "Epoch 71/200\n",
      "870/870 [==============================] - 3s 3ms/step - loss: 1.6098e-04\n",
      "Epoch 72/200\n",
      "870/870 [==============================] - 3s 3ms/step - loss: 1.6227e-04\n",
      "Epoch 73/200\n",
      "870/870 [==============================] - 3s 4ms/step - loss: 1.6100e-04\n",
      "Epoch 74/200\n",
      "870/870 [==============================] - 3s 3ms/step - loss: 1.6163e-04\n",
      "Epoch 75/200\n",
      "870/870 [==============================] - 3s 3ms/step - loss: 1.6146e-04\n",
      "Epoch 76/200\n",
      "870/870 [==============================] - 3s 4ms/step - loss: 1.6117e-04\n",
      "Epoch 77/200\n",
      "870/870 [==============================] - 3s 3ms/step - loss: 1.6033e-04\n",
      "Epoch 78/200\n",
      "870/870 [==============================] - 4s 4ms/step - loss: 1.6106e-04\n",
      "Epoch 79/200\n",
      "870/870 [==============================] - 4s 4ms/step - loss: 1.6146e-04\n",
      "Epoch 80/200\n",
      "870/870 [==============================] - 3s 4ms/step - loss: 1.6042e-04\n",
      "Epoch 81/200\n",
      "870/870 [==============================] - 3s 3ms/step - loss: 1.6218e-04\n",
      "Epoch 82/200\n",
      "870/870 [==============================] - 2s 3ms/step - loss: 1.6038e-04\n",
      "Epoch 83/200\n",
      "870/870 [==============================] - 2s 3ms/step - loss: 1.6118e-04\n",
      "Epoch 84/200\n",
      "870/870 [==============================] - 3s 3ms/step - loss: 1.6044e-04\n",
      "Epoch 85/200\n",
      "870/870 [==============================] - 2s 3ms/step - loss: 1.6082e-04\n",
      "Epoch 86/200\n",
      "870/870 [==============================] - 2s 3ms/step - loss: 1.6233e-04\n",
      "Epoch 87/200\n",
      "870/870 [==============================] - 2s 3ms/step - loss: 1.6071e-04\n",
      "Epoch 88/200\n",
      "870/870 [==============================] - 3s 3ms/step - loss: 1.6186e-04\n",
      "Epoch 89/200\n",
      "870/870 [==============================] - 2s 3ms/step - loss: 1.6173e-04\n",
      "Epoch 90/200\n",
      "870/870 [==============================] - 2s 3ms/step - loss: 1.6075e-04\n",
      "Epoch 91/200\n",
      "870/870 [==============================] - 2s 3ms/step - loss: 1.6076e-04\n",
      "Epoch 92/200\n",
      "870/870 [==============================] - 3s 3ms/step - loss: 1.6179e-04\n",
      "Epoch 93/200\n",
      "870/870 [==============================] - 2s 3ms/step - loss: 1.5956e-04A: 0s - loss: 1.5\n",
      "Epoch 94/200\n",
      "870/870 [==============================] - 2s 3ms/step - loss: 1.6111e-04\n",
      "Epoch 95/200\n"
     ]
    },
    {
     "name": "stdout",
     "output_type": "stream",
     "text": [
      "870/870 [==============================] - 3s 3ms/step - loss: 1.5980e-04\n",
      "Epoch 96/200\n",
      "870/870 [==============================] - 3s 3ms/step - loss: 1.6195e-04A\n",
      "Epoch 97/200\n",
      "870/870 [==============================] - 2s 3ms/step - loss: 1.6092e-04\n",
      "Epoch 98/200\n",
      "870/870 [==============================] - 2s 3ms/step - loss: 1.6207e-04\n",
      "Epoch 99/200\n",
      "870/870 [==============================] - 2s 3ms/step - loss: 1.6004e-04\n",
      "Epoch 100/200\n",
      "870/870 [==============================] - 3s 3ms/step - loss: 1.6046e-04\n",
      "Epoch 101/200\n",
      "870/870 [==============================] - 4s 4ms/step - loss: 1.6046e-04\n",
      "Epoch 102/200\n",
      "870/870 [==============================] - 4s 4ms/step - loss: 1.6024e-04\n",
      "Epoch 103/200\n",
      "870/870 [==============================] - 3s 3ms/step - loss: 1.6126e-04\n",
      "Epoch 104/200\n",
      "870/870 [==============================] - 3s 3ms/step - loss: 1.6014e-04\n",
      "Epoch 105/200\n",
      "870/870 [==============================] - 3s 3ms/step - loss: 1.6177e-04\n",
      "Epoch 106/200\n",
      "870/870 [==============================] - 3s 3ms/step - loss: 1.6026e-04\n",
      "Epoch 107/200\n",
      "870/870 [==============================] - 3s 3ms/step - loss: 1.6008e-04\n",
      "Epoch 108/200\n",
      "870/870 [==============================] - 3s 3ms/step - loss: 1.5992e-04\n",
      "Epoch 109/200\n",
      "870/870 [==============================] - 3s 3ms/step - loss: 1.6081e-04\n",
      "Epoch 110/200\n",
      "870/870 [==============================] - 3s 3ms/step - loss: 1.5980e-04\n",
      "Epoch 111/200\n",
      "870/870 [==============================] - 3s 3ms/step - loss: 1.5997e-04A:\n",
      "Epoch 112/200\n",
      "870/870 [==============================] - 3s 3ms/step - loss: 1.6004e-04\n",
      "Epoch 113/200\n",
      "870/870 [==============================] - 3s 3ms/step - loss: 1.5892e-04\n",
      "Epoch 114/200\n",
      "870/870 [==============================] - 4s 4ms/step - loss: 1.6065e-04\n",
      "Epoch 115/200\n",
      "870/870 [==============================] - 3s 3ms/step - loss: 1.6046e-04\n",
      "Epoch 116/200\n",
      "870/870 [==============================] - 3s 3ms/step - loss: 1.5906e-04\n",
      "Epoch 117/200\n",
      "870/870 [==============================] - 3s 3ms/step - loss: 1.5951e-04\n",
      "Epoch 118/200\n",
      "870/870 [==============================] - 3s 3ms/step - loss: 1.6143e-04\n",
      "Epoch 119/200\n",
      "870/870 [==============================] - 3s 3ms/step - loss: 1.6030e-04\n",
      "Epoch 120/200\n",
      "870/870 [==============================] - 3s 3ms/step - loss: 1.5990e-04\n",
      "Epoch 121/200\n",
      "870/870 [==============================] - 3s 3ms/step - loss: 1.5980e-04\n",
      "Epoch 122/200\n",
      "870/870 [==============================] - 3s 3ms/step - loss: 1.5991e-04\n",
      "Epoch 123/200\n",
      "870/870 [==============================] - 3s 3ms/step - loss: 1.6048e-04\n",
      "Epoch 124/200\n",
      "870/870 [==============================] - 4s 4ms/step - loss: 1.6052e-04\n",
      "Epoch 125/200\n",
      "870/870 [==============================] - 3s 4ms/step - loss: 1.5941e-04\n",
      "Epoch 126/200\n",
      "870/870 [==============================] - 3s 4ms/step - loss: 1.5992e-04\n",
      "Epoch 127/200\n",
      "870/870 [==============================] - 3s 3ms/step - loss: 1.5893e-04A: 0s - loss: 1.5961e-0\n",
      "Epoch 128/200\n",
      "870/870 [==============================] - 2s 3ms/step - loss: 1.6024e-04\n",
      "Epoch 129/200\n",
      "870/870 [==============================] - 2s 3ms/step - loss: 1.5967e-04\n",
      "Epoch 130/200\n",
      "870/870 [==============================] - 2s 3ms/step - loss: 1.5958e-04\n",
      "Epoch 131/200\n",
      "870/870 [==============================] - 2s 3ms/step - loss: 1.6008e-04\n",
      "Epoch 132/200\n",
      "870/870 [==============================] - 2s 3ms/step - loss: 1.5877e-04\n",
      "Epoch 133/200\n",
      "870/870 [==============================] - 2s 3ms/step - loss: 1.6012e-04\n",
      "Epoch 134/200\n",
      "870/870 [==============================] - 3s 3ms/step - loss: 1.5997e-04\n",
      "Epoch 135/200\n",
      "870/870 [==============================] - 3s 3ms/step - loss: 1.6040e-04\n",
      "Epoch 136/200\n",
      "870/870 [==============================] - 2s 3ms/step - loss: 1.5869e-04\n",
      "Epoch 137/200\n",
      "870/870 [==============================] - 2s 3ms/step - loss: 1.5962e-04\n",
      "Epoch 138/200\n",
      "870/870 [==============================] - 3s 3ms/step - loss: 1.6026e-04\n",
      "Epoch 139/200\n",
      "870/870 [==============================] - 3s 4ms/step - loss: 1.6007e-04\n",
      "Epoch 140/200\n",
      "870/870 [==============================] - 3s 4ms/step - loss: 1.5910e-04\n",
      "Epoch 141/200\n",
      "870/870 [==============================] - 3s 3ms/step - loss: 1.5977e-04\n",
      "Epoch 142/200\n",
      "870/870 [==============================] - 4s 4ms/step - loss: 1.5902e-04\n",
      "Epoch 143/200\n",
      "870/870 [==============================] - 3s 3ms/step - loss: 1.6091e-04\n",
      "Epoch 144/200\n",
      "870/870 [==============================] - 3s 3ms/step - loss: 1.5988e-04\n",
      "Epoch 145/200\n",
      "870/870 [==============================] - 3s 4ms/step - loss: 1.5821e-04\n",
      "Epoch 146/200\n",
      "870/870 [==============================] - 3s 3ms/step - loss: 1.5973e-04\n",
      "Epoch 147/200\n",
      "870/870 [==============================] - 2s 3ms/step - loss: 1.5962e-04\n",
      "Epoch 148/200\n",
      "870/870 [==============================] - 2s 3ms/step - loss: 1.5970e-04\n",
      "Epoch 149/200\n",
      "870/870 [==============================] - 3s 3ms/step - loss: 1.6096e-04\n",
      "Epoch 150/200\n",
      "870/870 [==============================] - 3s 3ms/step - loss: 1.5864e-04\n",
      "Epoch 151/200\n",
      "870/870 [==============================] - 3s 3ms/step - loss: 1.6034e-04\n",
      "Epoch 152/200\n",
      "870/870 [==============================] - 3s 3ms/step - loss: 1.5974e-04\n",
      "Epoch 153/200\n",
      "870/870 [==============================] - 3s 3ms/step - loss: 1.6049e-04\n",
      "Epoch 154/200\n",
      "870/870 [==============================] - 3s 3ms/step - loss: 1.5826e-04\n",
      "Epoch 155/200\n",
      "870/870 [==============================] - 3s 3ms/step - loss: 1.5843e-04\n",
      "Epoch 156/200\n",
      "870/870 [==============================] - 3s 3ms/step - loss: 1.5992e-04\n",
      "Epoch 157/200\n",
      "870/870 [==============================] - 3s 3ms/step - loss: 1.5865e-04\n",
      "Epoch 158/200\n",
      "870/870 [==============================] - 3s 3ms/step - loss: 1.5999e-04\n",
      "Epoch 159/200\n",
      "870/870 [==============================] - 3s 3ms/step - loss: 1.5991e-04\n",
      "Epoch 160/200\n",
      "870/870 [==============================] - 3s 3ms/step - loss: 1.5893e-04\n",
      "Epoch 161/200\n",
      "870/870 [==============================] - 3s 3ms/step - loss: 1.5921e-04\n",
      "Epoch 162/200\n",
      "870/870 [==============================] - 3s 4ms/step - loss: 1.5970e-04\n",
      "Epoch 163/200\n",
      "870/870 [==============================] - 3s 4ms/step - loss: 1.5878e-04\n",
      "Epoch 164/200\n",
      "870/870 [==============================] - 3s 4ms/step - loss: 1.5947e-04\n",
      "Epoch 165/200\n",
      "870/870 [==============================] - 3s 4ms/step - loss: 1.5925e-04\n",
      "Epoch 166/200\n",
      "870/870 [==============================] - 3s 3ms/step - loss: 1.5834e-04\n",
      "Epoch 167/200\n",
      "870/870 [==============================] - 3s 3ms/step - loss: 1.5815e-04\n",
      "Epoch 168/200\n",
      "870/870 [==============================] - 3s 3ms/step - loss: 1.5907e-04\n",
      "Epoch 169/200\n",
      "870/870 [==============================] - 3s 4ms/step - loss: 1.5858e-04\n",
      "Epoch 170/200\n",
      "870/870 [==============================] - 3s 4ms/step - loss: 1.5894e-04\n",
      "Epoch 171/200\n",
      "870/870 [==============================] - 3s 4ms/step - loss: 1.5951e-04\n",
      "Epoch 172/200\n",
      "870/870 [==============================] - 3s 3ms/step - loss: 1.5878e-04\n",
      "Epoch 173/200\n",
      "870/870 [==============================] - 3s 4ms/step - loss: 1.5887e-04\n",
      "Epoch 174/200\n",
      "870/870 [==============================] - 4s 4ms/step - loss: 1.5895e-04\n",
      "Epoch 175/200\n",
      "870/870 [==============================] - 3s 3ms/step - loss: 1.5977e-04\n",
      "Epoch 176/200\n",
      "870/870 [==============================] - 3s 4ms/step - loss: 1.6011e-04\n",
      "Epoch 177/200\n",
      "870/870 [==============================] - 3s 3ms/step - loss: 1.5789e-04\n",
      "Epoch 178/200\n",
      "870/870 [==============================] - 3s 3ms/step - loss: 1.5871e-04\n",
      "Epoch 179/200\n",
      "870/870 [==============================] - 3s 3ms/step - loss: 1.5858e-04\n",
      "Epoch 180/200\n",
      "870/870 [==============================] - 3s 3ms/step - loss: 1.5833e-04\n",
      "Epoch 181/200\n",
      "870/870 [==============================] - 3s 3ms/step - loss: 1.5872e-04\n",
      "Epoch 182/200\n",
      "870/870 [==============================] - 2s 2ms/step - loss: 1.5900e-04\n",
      "Epoch 183/200\n",
      "870/870 [==============================] - 2s 2ms/step - loss: 1.5890e-04A: 0s - loss: 1.5775\n",
      "Epoch 184/200\n",
      "870/870 [==============================] - 2s 2ms/step - loss: 1.5865e-04\n",
      "Epoch 185/200\n",
      "870/870 [==============================] - 2s 2ms/step - loss: 1.5967e-04\n",
      "Epoch 186/200\n",
      "870/870 [==============================] - 2s 2ms/step - loss: 1.5962e-04\n",
      "Epoch 187/200\n"
     ]
    },
    {
     "name": "stdout",
     "output_type": "stream",
     "text": [
      "870/870 [==============================] - 2s 2ms/step - loss: 1.5816e-04\n",
      "Epoch 188/200\n",
      "870/870 [==============================] - 2s 2ms/step - loss: 1.5951e-04\n",
      "Epoch 189/200\n",
      "870/870 [==============================] - 3s 3ms/step - loss: 1.5785e-04\n",
      "Epoch 190/200\n",
      "870/870 [==============================] - 2s 2ms/step - loss: 1.5900e-04\n",
      "Epoch 191/200\n",
      "870/870 [==============================] - 2s 2ms/step - loss: 1.5948e-04\n",
      "Epoch 192/200\n",
      "870/870 [==============================] - 2s 2ms/step - loss: 1.5770e-04\n",
      "Epoch 193/200\n",
      "870/870 [==============================] - 2s 2ms/step - loss: 1.5809e-04\n",
      "Epoch 194/200\n",
      "870/870 [==============================] - 3s 3ms/step - loss: 1.5872e-04A:\n",
      "Epoch 195/200\n",
      "870/870 [==============================] - 3s 3ms/step - loss: 1.5839e-04\n",
      "Epoch 196/200\n",
      "870/870 [==============================] - 2s 3ms/step - loss: 1.6011e-04\n",
      "Epoch 197/200\n",
      "870/870 [==============================] - 3s 3ms/step - loss: 1.5907e-04\n",
      "Epoch 198/200\n",
      "870/870 [==============================] - 3s 3ms/step - loss: 1.5832e-04\n",
      "Epoch 199/200\n",
      "870/870 [==============================] - 2s 3ms/step - loss: 1.5926e-04\n",
      "Epoch 200/200\n",
      "870/870 [==============================] - 2s 3ms/step - loss: 1.5780e-04\n"
     ]
    },
    {
     "data": {
      "text/plain": [
       "<keras.callbacks.History at 0x1a2e4c6510>"
      ]
     },
     "execution_count": 5,
     "metadata": {},
     "output_type": "execute_result"
    }
   ],
   "source": [
    "seq = df['Kalman_Return'].values\n",
    "seq = [np.array(seq[i * input_size: (i + 1) * input_size]) for i in range(len(seq) // input_size)]\n",
    "\n",
    "X = np.array([seq[i: i + num_steps] for i in range(len(seq) - num_steps)])\n",
    "x_train, x_test = X[:cutoff], X[cutoff:]\n",
    "\n",
    "model = Sequential()\n",
    "model.add(LSTM(256, dropout=0.1, return_sequences=True))\n",
    "model.add(LSTM(128, dropout=0.1))\n",
    "model.add(Dense(5))\n",
    "model.compile(optimizer='RMSprop', loss='mean_squared_error')\n",
    "model.fit(x_train, y_train, epochs=n_epochs)"
   ]
  },
  {
   "cell_type": "code",
   "execution_count": 6,
   "metadata": {},
   "outputs": [
    {
     "data": {
      "text/plain": [
       "[<matplotlib.lines.Line2D at 0x1a2ec538d0>]"
      ]
     },
     "execution_count": 6,
     "metadata": {},
     "output_type": "execute_result"
    },
    {
     "data": {
      "image/png": "[encoded data removed]",
      "text/plain": [
       "<Figure size 432x288 with 1 Axes>"
      ]
     },
     "metadata": {
      "needs_background": "light"
     },
     "output_type": "display_data"
    }
   ],
   "source": [
    "y_hat = model.predict(x_test)\n",
    "plt.plot(y_hat.flatten())"
   ]
  },
  {
   "cell_type": "code",
   "execution_count": 7,
   "metadata": {},
   "outputs": [
    {
     "data": {
      "text/plain": [
       "[<matplotlib.lines.Line2D at 0x1a315aee90>]"
      ]
     },
     "execution_count": 7,
     "metadata": {},
     "output_type": "execute_result"
    },
    {
     "data": {
      "image/png": "[encoded data removed]",
      "text/plain": [
       "<Figure size 432x288 with 1 Axes>"
      ]
     },
     "metadata": {
      "needs_background": "light"
     },
     "output_type": "display_data"
    }
   ],
   "source": [
    "plt.plot(y_hat.flatten() - y_test.flatten())"
   ]
  },
  {
   "cell_type": "code",
   "execution_count": 8,
   "metadata": {},
   "outputs": [
    {
     "data": {
      "text/plain": [
       "7.736919689527344e-05"
      ]
     },
     "execution_count": 8,
     "metadata": {},
     "output_type": "execute_result"
    }
   ],
   "source": [
    "mean_squared_error(y_hat.flatten(), y_test.flatten())"
   ]
  },
  {
   "cell_type": "code",
   "execution_count": null,
   "metadata": {},
   "outputs": [],
   "source": []
  },
  {
   "cell_type": "code",
   "execution_count": 40,
   "metadata": {},
   "outputs": [],
   "source": [
    "longshort = [100]\n",
    "for i in range(y_test.shape[0]):\n",
    "    val = 100\n",
    "    for ret in y_hat[i]:\n",
    "        val *= np.exp(ret)\n",
    "    if val >= 100:  # buy/hold\n",
    "        for ret in y_test[i]:\n",
    "            longshort.append(longshort[-1] * np.exp(ret))\n",
    "    else:\n",
    "        for ret in y_test[i]:\n",
    "            longshort.append(longshort[-1] * np.exp(-ret))"
   ]
  },
  {
   "cell_type": "code",
   "execution_count": 41,
   "metadata": {},
   "outputs": [
    {
     "data": {
      "text/plain": [
       "Text(0.5,1,'LSTM Portfolio Performance With Kalman Denoising')"
      ]
     },
     "execution_count": 41,
     "metadata": {},
     "output_type": "execute_result"
    },
    {
     "data": {
      "image/png": "[encoded data removed]",
      "text/plain": [
       "<Figure size 720x360 with 1 Axes>"
      ]
     },
     "metadata": {
      "needs_background": "light"
     },
     "output_type": "display_data"
    }
   ],
   "source": [
    "fig, ax = plt.subplots(figsize=[10, 5])\n",
    "ax.plot(longshort)\n",
    "ax.set_title('LSTM Portfolio Performance With Kalman Denoising')"
   ]
  },
  {
   "cell_type": "code",
   "execution_count": 42,
   "metadata": {},
   "outputs": [
    {
     "name": "stdout",
     "output_type": "stream",
     "text": [
      "Total Return = 0.22175335821383735\n",
      "Return Mean =  0.0229279001805\n",
      "Return Stdev =  0.834449308366\n",
      "Sharpe =  2.74766842643\n"
     ]
    }
   ],
   "source": [
    "longshort = pd.Series(longshort)\n",
    "returns = longshort.pct_change()\n",
    "\n",
    "print 'Total Return =', longshort.iloc[-1] / longshort.iloc[0] - 1\n",
    "print 'Return Mean = ', returns.mean() * 100\n",
    "print 'Return Stdev = ', returns.std() * 100\n",
    "print 'Sharpe = ', returns.mean() / returns.std() * 100"
   ]
  },
  {
   "cell_type": "code",
   "execution_count": null,
   "metadata": {},
   "outputs": [],
   "source": []
  },
  {
   "cell_type": "code",
   "execution_count": 43,
   "metadata": {},
   "outputs": [],
   "source": [
    "longonly = [100]\n",
    "for i in range(y_test.shape[0]):\n",
    "    val = 100\n",
    "    for ret in y_hat[i]:\n",
    "        val *= np.exp(ret)\n",
    "    if val >= 100:  # buy/hold\n",
    "        for ret in y_test[i]:\n",
    "            longonly.append(longonly[-1] * np.exp(ret))\n",
    "    else:\n",
    "        for ret in y_test[i]:\n",
    "            longonly.append(longonly[-1])"
   ]
  },
  {
   "cell_type": "code",
   "execution_count": 44,
   "metadata": {},
   "outputs": [
    {
     "data": {
      "text/plain": [
       "Text(0.5,1,'LSTM Portfolio Performance With Kalman Denoising')"
      ]
     },
     "execution_count": 44,
     "metadata": {},
     "output_type": "execute_result"
    },
    {
     "data": {
      "image/png": "[encoded data removed]",
      "text/plain": [
       "<Figure size 720x360 with 1 Axes>"
      ]
     },
     "metadata": {
      "needs_background": "light"
     },
     "output_type": "display_data"
    }
   ],
   "source": [
    "fig, ax = plt.subplots(figsize=[10, 5])\n",
    "ax.plot(longonly)\n",
    "ax.set_title('LSTM Portfolio Performance With Kalman Denoising')"
   ]
  },
  {
   "cell_type": "code",
   "execution_count": 45,
   "metadata": {},
   "outputs": [
    {
     "name": "stdout",
     "output_type": "stream",
     "text": [
      "Total Return = 0.25936410954330236\n",
      "Return Mean =  0.0253198669063\n",
      "Return Stdev =  0.764791891254\n",
      "Sharpe =  3.31068715502\n"
     ]
    }
   ],
   "source": [
    "longonly = pd.Series(longonly)\n",
    "returns = longonly.pct_change()\n",
    "\n",
    "print 'Total Return =', longonly.iloc[-1] / longonly.iloc[0] - 1\n",
    "print 'Return Mean = ', returns.mean() * 100\n",
    "print 'Return Stdev = ', returns.std() * 100\n",
    "print 'Sharpe = ', returns.mean() / returns.std() * 100"
   ]
  },
  {
   "cell_type": "code",
   "execution_count": 47,
   "metadata": {},
   "outputs": [],
   "source": [
    "pd.DataFrame({'Kalman + LSTM': longshort}).to_csv('Kalman.csv', index=False)"
   ]
  },
  {
   "cell_type": "code",
   "execution_count": null,
   "metadata": {},
   "outputs": [],
   "source": []
  },
  {
   "cell_type": "code",
   "execution_count": null,
   "metadata": {},
   "outputs": [],
   "source": []
  },
  {
   "cell_type": "code",
   "execution_count": null,
   "metadata": {},
   "outputs": [],
   "source": []
  },
  {
   "cell_type": "code",
   "execution_count": 62,
   "metadata": {},
   "outputs": [
    {
     "data": {
      "text/plain": [
       "7.736919689527344e-05"
      ]
     },
     "execution_count": 62,
     "metadata": {},
     "output_type": "execute_result"
    }
   ],
   "source": [
    "mean_squared_error(y_hat.flatten(), y_test.flatten())"
   ]
  },
  {
   "cell_type": "code",
   "execution_count": 57,
   "metadata": {},
   "outputs": [
    {
     "data": {
      "text/plain": [
       "0.00016164073164728768"
      ]
     },
     "execution_count": 57,
     "metadata": {},
     "output_type": "execute_result"
    }
   ],
   "source": [
    "y_hat_train = model.predict(x_train)\n",
    "\n",
    "mean_squared_error(y_hat_train.flatten(), y_train.flatten())"
   ]
  },
  {
   "cell_type": "code",
   "execution_count": 63,
   "metadata": {},
   "outputs": [
    {
     "data": {
      "text/plain": [
       "'7.74E-05'"
      ]
     },
     "execution_count": 63,
     "metadata": {},
     "output_type": "execute_result"
    }
   ],
   "source": [
    "from decimal import Decimal\n",
    "\n",
    "'%.2E' % Decimal('7.736919689527344e-05')"
   ]
  }
 ],
 "metadata": {
  "kernelspec": {
   "display_name": "Python 2",
   "language": "python",
   "name": "python2"
  },
  "language_info": {
   "codemirror_mode": {
    "name": "ipython",
    "version": 2
   },
   "file_extension": ".py",
   "mimetype": "text/x-python",
   "name": "python",
   "nbconvert_exporter": "python",
   "pygments_lexer": "ipython2",
   "version": "2.7.15"
  }
 },
 "nbformat": 4,
 "nbformat_minor": 2
}
